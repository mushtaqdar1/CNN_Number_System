{
 "cells": [
  {
   "cell_type": "markdown",
   "id": "19e3eada",
   "metadata": {},
   "source": [
    "# Hand_Written_Recognition"
   ]
  },
  {
   "cell_type": "markdown",
   "id": "f0d83308",
   "metadata": {},
   "source": [
    "### 1. Screen capture\n",
    "### 2. Generate dataset and load it\n",
    "### 3. Fit the model and load it\n",
    "### 4. Prediction of image drawn in paint"
   ]
  },
  {
   "cell_type": "code",
   "execution_count": 104,
   "id": "662e636c",
   "metadata": {},
   "outputs": [
    {
     "name": "stdout",
     "output_type": "stream",
     "text": [
      "Requirement already satisfied: pyscreenshot in c:\\programdata\\anaconda3\\lib\\site-packages (3.1)\n",
      "Requirement already satisfied: EasyProcess in c:\\programdata\\anaconda3\\lib\\site-packages (from pyscreenshot) (1.1)\n",
      "Requirement already satisfied: entrypoint2 in c:\\programdata\\anaconda3\\lib\\site-packages (from pyscreenshot) (1.1)\n",
      "Requirement already satisfied: mss in c:\\programdata\\anaconda3\\lib\\site-packages (from pyscreenshot) (10.0.0)\n",
      "Note: you may need to restart the kernel to use updated packages.\n"
     ]
    },
    {
     "name": "stderr",
     "output_type": "stream",
     "text": [
      "WARNING: Ignoring invalid distribution -spec (c:\\programdata\\anaconda3\\lib\\site-packages)\n",
      "WARNING: Ignoring invalid distribution -sspec (c:\\programdata\\anaconda3\\lib\\site-packages)\n",
      "WARNING: Ignoring invalid distribution - (c:\\programdata\\anaconda3\\lib\\site-packages)\n",
      "WARNING: Ignoring invalid distribution -spec (c:\\programdata\\anaconda3\\lib\\site-packages)\n",
      "WARNING: Ignoring invalid distribution -sspec (c:\\programdata\\anaconda3\\lib\\site-packages)\n",
      "WARNING: Ignoring invalid distribution - (c:\\programdata\\anaconda3\\lib\\site-packages)\n",
      "WARNING: Ignoring invalid distribution -spec (c:\\programdata\\anaconda3\\lib\\site-packages)\n",
      "WARNING: Ignoring invalid distribution -sspec (c:\\programdata\\anaconda3\\lib\\site-packages)\n",
      "WARNING: Ignoring invalid distribution - (c:\\programdata\\anaconda3\\lib\\site-packages)\n",
      "WARNING: Ignoring invalid distribution -spec (c:\\programdata\\anaconda3\\lib\\site-packages)\n",
      "WARNING: Ignoring invalid distribution -sspec (c:\\programdata\\anaconda3\\lib\\site-packages)\n",
      "WARNING: Ignoring invalid distribution - (c:\\programdata\\anaconda3\\lib\\site-packages)\n",
      "WARNING: Ignoring invalid distribution -spec (c:\\programdata\\anaconda3\\lib\\site-packages)\n",
      "WARNING: Ignoring invalid distribution -sspec (c:\\programdata\\anaconda3\\lib\\site-packages)\n",
      "WARNING: Ignoring invalid distribution - (c:\\programdata\\anaconda3\\lib\\site-packages)\n",
      "WARNING: Ignoring invalid distribution -spec (c:\\programdata\\anaconda3\\lib\\site-packages)\n",
      "WARNING: Ignoring invalid distribution -sspec (c:\\programdata\\anaconda3\\lib\\site-packages)\n",
      "WARNING: Ignoring invalid distribution - (c:\\programdata\\anaconda3\\lib\\site-packages)\n"
     ]
    }
   ],
   "source": [
    "pip install pyscreenshot"
   ]
  },
  {
   "cell_type": "code",
   "execution_count": 105,
   "id": "06659455",
   "metadata": {},
   "outputs": [],
   "source": [
    "import pyscreenshot as ImageGrab"
   ]
  },
  {
   "cell_type": "code",
   "execution_count": 106,
   "id": "09660e18",
   "metadata": {},
   "outputs": [],
   "source": [
    "import time"
   ]
  },
  {
   "cell_type": "code",
   "execution_count": 107,
   "id": "f7c1803e",
   "metadata": {},
   "outputs": [
    {
     "name": "stdout",
     "output_type": "stream",
     "text": [
      "saved ...... 0\n",
      "clear screen and redraw now\n",
      "saved ...... 1\n",
      "clear screen and redraw now\n",
      "saved ...... 2\n",
      "clear screen and redraw now\n",
      "saved ...... 3\n",
      "clear screen and redraw now\n",
      "saved ...... 4\n",
      "clear screen and redraw now\n",
      "saved ...... 5\n",
      "clear screen and redraw now\n",
      "saved ...... 6\n",
      "clear screen and redraw now\n",
      "saved ...... 7\n",
      "clear screen and redraw now\n",
      "saved ...... 8\n",
      "clear screen and redraw now\n",
      "saved ...... 9\n",
      "clear screen and redraw now\n"
     ]
    }
   ],
   "source": [
    "images_folder=\"D:\\ML\\Captured_images/9/\"\n",
    "for i in range(0,10):\n",
    "    time.sleep(8)#delay 8 seconds\n",
    "    im=ImageGrab.grab(bbox=(60,170,400,550)) #x1,y1,x2,y2\n",
    "    print(\"saved ......\",i)\n",
    "    im.save(images_folder+str(i)+'.png')\n",
    "    print(\"clear screen and redraw now\")\n",
    "    "
   ]
  },
  {
   "cell_type": "markdown",
   "id": "ee4291da",
   "metadata": {},
   "source": [
    "## 2. Generate dataset and load"
   ]
  },
  {
   "cell_type": "code",
   "execution_count": 108,
   "id": "ca282aa5",
   "metadata": {},
   "outputs": [
    {
     "name": "stdout",
     "output_type": "stream",
     "text": [
      "Requirement already satisfied: scikit-learn in c:\\programdata\\anaconda3\\lib\\site-packages (0.24.2)\n",
      "Requirement already satisfied: joblib>=0.11 in c:\\programdata\\anaconda3\\lib\\site-packages (from scikit-learn) (1.1.0)\n",
      "Requirement already satisfied: scipy>=0.19.1 in c:\\programdata\\anaconda3\\lib\\site-packages (from scikit-learn) (1.7.1)\n",
      "Requirement already satisfied: threadpoolctl>=2.0.0 in c:\\programdata\\anaconda3\\lib\\site-packages (from scikit-learn) (2.2.0)\n",
      "Requirement already satisfied: numpy>=1.13.3 in c:\\programdata\\anaconda3\\lib\\site-packages (from scikit-learn) (1.20.3)\n",
      "Note: you may need to restart the kernel to use updated packages.\n"
     ]
    },
    {
     "name": "stderr",
     "output_type": "stream",
     "text": [
      "WARNING: Ignoring invalid distribution -spec (c:\\programdata\\anaconda3\\lib\\site-packages)\n",
      "WARNING: Ignoring invalid distribution -sspec (c:\\programdata\\anaconda3\\lib\\site-packages)\n",
      "WARNING: Ignoring invalid distribution - (c:\\programdata\\anaconda3\\lib\\site-packages)\n",
      "WARNING: Ignoring invalid distribution -spec (c:\\programdata\\anaconda3\\lib\\site-packages)\n",
      "WARNING: Ignoring invalid distribution -sspec (c:\\programdata\\anaconda3\\lib\\site-packages)\n",
      "WARNING: Ignoring invalid distribution - (c:\\programdata\\anaconda3\\lib\\site-packages)\n",
      "WARNING: Ignoring invalid distribution -spec (c:\\programdata\\anaconda3\\lib\\site-packages)\n",
      "WARNING: Ignoring invalid distribution -sspec (c:\\programdata\\anaconda3\\lib\\site-packages)\n",
      "WARNING: Ignoring invalid distribution - (c:\\programdata\\anaconda3\\lib\\site-packages)\n",
      "WARNING: Ignoring invalid distribution -spec (c:\\programdata\\anaconda3\\lib\\site-packages)\n",
      "WARNING: Ignoring invalid distribution -sspec (c:\\programdata\\anaconda3\\lib\\site-packages)\n",
      "WARNING: Ignoring invalid distribution - (c:\\programdata\\anaconda3\\lib\\site-packages)\n",
      "WARNING: Ignoring invalid distribution -spec (c:\\programdata\\anaconda3\\lib\\site-packages)\n",
      "WARNING: Ignoring invalid distribution -sspec (c:\\programdata\\anaconda3\\lib\\site-packages)\n",
      "WARNING: Ignoring invalid distribution - (c:\\programdata\\anaconda3\\lib\\site-packages)\n",
      "WARNING: Ignoring invalid distribution -spec (c:\\programdata\\anaconda3\\lib\\site-packages)\n",
      "WARNING: Ignoring invalid distribution -sspec (c:\\programdata\\anaconda3\\lib\\site-packages)\n",
      "WARNING: Ignoring invalid distribution - (c:\\programdata\\anaconda3\\lib\\site-packages)\n"
     ]
    }
   ],
   "source": [
    "pip install scikit-learn"
   ]
  },
  {
   "cell_type": "code",
   "execution_count": 109,
   "id": "6f7e7bb3",
   "metadata": {},
   "outputs": [],
   "source": [
    "import csv\n",
    "import glob\n",
    "import cv2\n",
    "header=[\"label\"]\n",
    "for i in range(0,784):\n",
    "    header.append(\"pixel\"+str(i))\n",
    "with open('dataset.csv','a') as f:\n",
    "    writer=csv.writer(f)\n",
    "    writer.writerow(header)\n",
    "for label in range(10):\n",
    "    dirlist = glob.glob(\"captured_images/\" + str(label) + \"/*.png\")\n",
    "    for img_path in dirlist:\n",
    "        im = cv2.imread(img_path)\n",
    "        im_gray = cv2.cvtColor(im, cv2.COLOR_BGR2GRAY)\n",
    "        im_gray = cv2.GaussianBlur(im_gray, (15, 15), 0)\n",
    "        roi = cv2.resize(im_gray, (28, 28), interpolation=cv2.INTER_AREA)\n",
    "        data =[]\n",
    "        data.append(label)\n",
    "        rows, cols = roi.shape\n",
    "        ## add pixel one by one into the data array\n",
    "        for i in range(rows):\n",
    "            for j in range(cols):\n",
    "                k=roi[i,j]\n",
    "                if k>100:\n",
    "                    k=1\n",
    "                else:\n",
    "                    k=0\n",
    "                data.append(k)\n",
    "        with open('dataset.csv', 'a') as f:\n",
    "            writer = csv.writer(f)\n",
    "            writer.writerow(data)\n",
    "                \n",
    "            \n",
    "        \n",
    "        "
   ]
  },
  {
   "cell_type": "code",
   "execution_count": 110,
   "id": "301f3cd9",
   "metadata": {},
   "outputs": [
    {
     "name": "stdout",
     "output_type": "stream",
     "text": [
      "  label pixel0 pixel1 pixel2 pixel3 pixel4 pixel5 pixel6 pixel7 pixel8  ...  \\\n",
      "0   NaN    NaN    NaN    NaN    NaN    NaN    NaN    NaN    NaN    NaN  ...   \n",
      "1     0      1      1      1      1      1      1      1      1      1  ...   \n",
      "2   NaN    NaN    NaN    NaN    NaN    NaN    NaN    NaN    NaN    NaN  ...   \n",
      "3     0      1      1      1      1      1      1      1      1      1  ...   \n",
      "4   NaN    NaN    NaN    NaN    NaN    NaN    NaN    NaN    NaN    NaN  ...   \n",
      "\n",
      "  pixel774 pixel775 pixel776 pixel777 pixel778 pixel779 pixel780 pixel781  \\\n",
      "0      NaN      NaN      NaN      NaN      NaN      NaN      NaN      NaN   \n",
      "1        0        0        0        0        1        1        0        0   \n",
      "2      NaN      NaN      NaN      NaN      NaN      NaN      NaN      NaN   \n",
      "3        0        0        0        0        1        1        0        0   \n",
      "4      NaN      NaN      NaN      NaN      NaN      NaN      NaN      NaN   \n",
      "\n",
      "  pixel782 pixel783  \n",
      "0      NaN      NaN  \n",
      "1        0        0  \n",
      "2      NaN      NaN  \n",
      "3        0        0  \n",
      "4      NaN      NaN  \n",
      "\n",
      "[5 rows x 785 columns]\n"
     ]
    }
   ],
   "source": [
    "import pandas as pd\n",
    "\n",
    "# Load your data into the DataFrame\n",
    "df = pd.read_csv('dataset.csv')\n",
    "\n",
    "# Display the first few rows of the DataFrame\n",
    "print(df.head())\n"
   ]
  },
  {
   "cell_type": "markdown",
   "id": "a7156b43",
   "metadata": {},
   "source": [
    "#### Load the dataset\n",
    "    "
   ]
  },
  {
   "cell_type": "code",
   "execution_count": 111,
   "id": "2fad3268",
   "metadata": {},
   "outputs": [
    {
     "name": "stdout",
     "output_type": "stream",
     "text": [
      "    label pixel0 pixel1 pixel2 pixel3 pixel4 pixel5 pixel6 pixel7 pixel8  ...  \\\n",
      "285     7      1      1      1      1      1      1      1      1      1  ...   \n",
      "55      5      1      1      1      1      1      1      1      1      1  ...   \n",
      "241     9      0      0      0      0      0      0      0      0      0  ...   \n",
      "102     3      1      1      1      1      1      1      1      1      1  ...   \n",
      "136     6      1      1      1      1      1      1      1      1      1  ...   \n",
      "..    ...    ...    ...    ...    ...    ...    ...    ...    ...    ...  ...   \n",
      "207     4      1      1      1      1      1      1      1      1      1  ...   \n",
      "261     3      1      1      1      1      1      1      1      1      1  ...   \n",
      "143     0      1      1      1      1      1      1      1      1      1  ...   \n",
      "277     6      1      1      1      1      1      1      1      1      1  ...   \n",
      "97    NaN    NaN    NaN    NaN    NaN    NaN    NaN    NaN    NaN    NaN  ...   \n",
      "\n",
      "    pixel774 pixel775 pixel776 pixel777 pixel778 pixel779 pixel780 pixel781  \\\n",
      "285        0        1        1        0        0        0        0        0   \n",
      "55         1        1        1        1        1        1        1        1   \n",
      "241        0        0        0        0        0        0        0        0   \n",
      "102        0        0        0        0        0        0        0        0   \n",
      "136        1        1        1        1        1        1        1        1   \n",
      "..       ...      ...      ...      ...      ...      ...      ...      ...   \n",
      "207        1        1        1        1        1        1        1        1   \n",
      "261        0        0        0        0        0        0        0        0   \n",
      "143        0        0        0        0        1        1        0        0   \n",
      "277        0        0        0        0        0        0        0        0   \n",
      "97       NaN      NaN      NaN      NaN      NaN      NaN      NaN      NaN   \n",
      "\n",
      "    pixel782 pixel783  \n",
      "285        0        0  \n",
      "55         1        1  \n",
      "241        0        0  \n",
      "102        0        0  \n",
      "136        1        1  \n",
      "..       ...      ...  \n",
      "207        1        1  \n",
      "261        0        0  \n",
      "143        0        0  \n",
      "277        0        0  \n",
      "97       NaN      NaN  \n",
      "\n",
      "[308 rows x 785 columns]\n",
      "    label pixel0 pixel1 pixel2 pixel3 pixel4 pixel5 pixel6 pixel7 pixel8  ...  \\\n",
      "285     7      1      1      1      1      1      1      1      1      1  ...   \n",
      "55      5      1      1      1      1      1      1      1      1      1  ...   \n",
      "241     9      0      0      0      0      0      0      0      0      0  ...   \n",
      "102     3      1      1      1      1      1      1      1      1      1  ...   \n",
      "136     6      1      1      1      1      1      1      1      1      1  ...   \n",
      "\n",
      "    pixel774 pixel775 pixel776 pixel777 pixel778 pixel779 pixel780 pixel781  \\\n",
      "285        0        1        1        0        0        0        0        0   \n",
      "55         1        1        1        1        1        1        1        1   \n",
      "241        0        0        0        0        0        0        0        0   \n",
      "102        0        0        0        0        0        0        0        0   \n",
      "136        1        1        1        1        1        1        1        1   \n",
      "\n",
      "    pixel782 pixel783  \n",
      "285        0        0  \n",
      "55         1        1  \n",
      "241        0        0  \n",
      "102        0        0  \n",
      "136        1        1  \n",
      "\n",
      "[5 rows x 785 columns]\n"
     ]
    }
   ],
   "source": [
    "import pandas as pd\n",
    "from sklearn.utils import shuffle\n",
    "import pandas as pd\n",
    "data = pd.read_csv('D:/ML/dataset.csv')\n",
    "data = shuffle(data)\n",
    "print(data)\n",
    "print(data.head())  # Display the first few rows of the DataFrame\n",
    "\n",
    "\n",
    "\n"
   ]
  },
  {
   "cell_type": "code",
   "execution_count": null,
   "id": "aea5293c",
   "metadata": {},
   "outputs": [],
   "source": []
  },
  {
   "cell_type": "code",
   "execution_count": null,
   "id": "7495aade",
   "metadata": {},
   "outputs": [],
   "source": []
  },
  {
   "cell_type": "code",
   "execution_count": 112,
   "id": "e2c9800a",
   "metadata": {},
   "outputs": [
    {
     "name": "stdout",
     "output_type": "stream",
     "text": [
      "Requirement already satisfied: matplotlib in c:\\programdata\\anaconda3\\lib\\site-packages (3.4.3)\n",
      "Requirement already satisfied: numpy>=1.16 in c:\\programdata\\anaconda3\\lib\\site-packages (from matplotlib) (1.20.3)\n",
      "Requirement already satisfied: kiwisolver>=1.0.1 in c:\\programdata\\anaconda3\\lib\\site-packages (from matplotlib) (1.3.1)\n",
      "Requirement already satisfied: python-dateutil>=2.7 in c:\\programdata\\anaconda3\\lib\\site-packages (from matplotlib) (2.8.2)\n",
      "Requirement already satisfied: pyparsing>=2.2.1 in c:\\programdata\\anaconda3\\lib\\site-packages (from matplotlib) (3.0.4)\n",
      "Requirement already satisfied: cycler>=0.10 in c:\\programdata\\anaconda3\\lib\\site-packages (from matplotlib) (0.10.0)\n",
      "Requirement already satisfied: pillow>=6.2.0 in c:\\programdata\\anaconda3\\lib\\site-packages (from matplotlib) (8.4.0)\n",
      "Requirement already satisfied: six in c:\\programdata\\anaconda3\\lib\\site-packages (from cycler>=0.10->matplotlib) (1.16.0)\n",
      "Note: you may need to restart the kernel to use updated packages.\n"
     ]
    },
    {
     "name": "stderr",
     "output_type": "stream",
     "text": [
      "WARNING: Ignoring invalid distribution -spec (c:\\programdata\\anaconda3\\lib\\site-packages)\n",
      "WARNING: Ignoring invalid distribution -sspec (c:\\programdata\\anaconda3\\lib\\site-packages)\n",
      "WARNING: Ignoring invalid distribution - (c:\\programdata\\anaconda3\\lib\\site-packages)\n",
      "WARNING: Ignoring invalid distribution -spec (c:\\programdata\\anaconda3\\lib\\site-packages)\n",
      "WARNING: Ignoring invalid distribution -sspec (c:\\programdata\\anaconda3\\lib\\site-packages)\n",
      "WARNING: Ignoring invalid distribution - (c:\\programdata\\anaconda3\\lib\\site-packages)\n",
      "WARNING: Ignoring invalid distribution -spec (c:\\programdata\\anaconda3\\lib\\site-packages)\n",
      "WARNING: Ignoring invalid distribution -sspec (c:\\programdata\\anaconda3\\lib\\site-packages)\n",
      "WARNING: Ignoring invalid distribution - (c:\\programdata\\anaconda3\\lib\\site-packages)\n",
      "WARNING: Ignoring invalid distribution -spec (c:\\programdata\\anaconda3\\lib\\site-packages)\n",
      "WARNING: Ignoring invalid distribution -sspec (c:\\programdata\\anaconda3\\lib\\site-packages)\n",
      "WARNING: Ignoring invalid distribution - (c:\\programdata\\anaconda3\\lib\\site-packages)\n",
      "WARNING: Ignoring invalid distribution -spec (c:\\programdata\\anaconda3\\lib\\site-packages)\n",
      "WARNING: Ignoring invalid distribution -sspec (c:\\programdata\\anaconda3\\lib\\site-packages)\n",
      "WARNING: Ignoring invalid distribution - (c:\\programdata\\anaconda3\\lib\\site-packages)\n",
      "WARNING: Ignoring invalid distribution -spec (c:\\programdata\\anaconda3\\lib\\site-packages)\n",
      "WARNING: Ignoring invalid distribution -sspec (c:\\programdata\\anaconda3\\lib\\site-packages)\n",
      "WARNING: Ignoring invalid distribution - (c:\\programdata\\anaconda3\\lib\\site-packages)\n"
     ]
    }
   ],
   "source": [
    "pip install matplotlib\n"
   ]
  },
  {
   "cell_type": "code",
   "execution_count": 113,
   "id": "01866321",
   "metadata": {},
   "outputs": [
    {
     "name": "stdout",
     "output_type": "stream",
     "text": [
      "Requirement already satisfied: joblib in c:\\programdata\\anaconda3\\lib\\site-packages (1.1.0)\n",
      "Note: you may need to restart the kernel to use updated packages.\n"
     ]
    },
    {
     "name": "stderr",
     "output_type": "stream",
     "text": [
      "WARNING: Ignoring invalid distribution -spec (c:\\programdata\\anaconda3\\lib\\site-packages)\n",
      "WARNING: Ignoring invalid distribution -sspec (c:\\programdata\\anaconda3\\lib\\site-packages)\n",
      "WARNING: Ignoring invalid distribution - (c:\\programdata\\anaconda3\\lib\\site-packages)\n",
      "WARNING: Ignoring invalid distribution -spec (c:\\programdata\\anaconda3\\lib\\site-packages)\n",
      "WARNING: Ignoring invalid distribution -sspec (c:\\programdata\\anaconda3\\lib\\site-packages)\n",
      "WARNING: Ignoring invalid distribution - (c:\\programdata\\anaconda3\\lib\\site-packages)\n",
      "WARNING: Ignoring invalid distribution -spec (c:\\programdata\\anaconda3\\lib\\site-packages)\n",
      "WARNING: Ignoring invalid distribution -sspec (c:\\programdata\\anaconda3\\lib\\site-packages)\n",
      "WARNING: Ignoring invalid distribution - (c:\\programdata\\anaconda3\\lib\\site-packages)\n",
      "WARNING: Ignoring invalid distribution -spec (c:\\programdata\\anaconda3\\lib\\site-packages)\n",
      "WARNING: Ignoring invalid distribution -sspec (c:\\programdata\\anaconda3\\lib\\site-packages)\n",
      "WARNING: Ignoring invalid distribution - (c:\\programdata\\anaconda3\\lib\\site-packages)\n",
      "WARNING: Ignoring invalid distribution -spec (c:\\programdata\\anaconda3\\lib\\site-packages)\n",
      "WARNING: Ignoring invalid distribution -sspec (c:\\programdata\\anaconda3\\lib\\site-packages)\n",
      "WARNING: Ignoring invalid distribution - (c:\\programdata\\anaconda3\\lib\\site-packages)\n",
      "WARNING: Ignoring invalid distribution -spec (c:\\programdata\\anaconda3\\lib\\site-packages)\n",
      "WARNING: Ignoring invalid distribution -sspec (c:\\programdata\\anaconda3\\lib\\site-packages)\n",
      "WARNING: Ignoring invalid distribution - (c:\\programdata\\anaconda3\\lib\\site-packages)\n"
     ]
    }
   ],
   "source": [
    "pip install joblib"
   ]
  },
  {
   "cell_type": "markdown",
   "id": "b290c290",
   "metadata": {},
   "source": [
    "#### Sepreration of dependent and independent variable"
   ]
  },
  {
   "cell_type": "code",
   "execution_count": 114,
   "id": "92c5872c",
   "metadata": {},
   "outputs": [
    {
     "name": "stdout",
     "output_type": "stream",
     "text": [
      "<class 'pandas.core.frame.DataFrame'>\n",
      "  pixel0 pixel1 pixel2 pixel3 pixel4 pixel5 pixel6 pixel7 pixel8 pixel9  ...  \\\n",
      "0    NaN    NaN    NaN    NaN    NaN    NaN    NaN    NaN    NaN    NaN  ...   \n",
      "1      1      1      1      1      1      1      1      1      1      1  ...   \n",
      "2    NaN    NaN    NaN    NaN    NaN    NaN    NaN    NaN    NaN    NaN  ...   \n",
      "3      1      1      1      1      1      1      1      1      1      1  ...   \n",
      "4    NaN    NaN    NaN    NaN    NaN    NaN    NaN    NaN    NaN    NaN  ...   \n",
      "\n",
      "  pixel774 pixel775 pixel776 pixel777 pixel778 pixel779 pixel780 pixel781  \\\n",
      "0      NaN      NaN      NaN      NaN      NaN      NaN      NaN      NaN   \n",
      "1        0        0        0        0        1        1        0        0   \n",
      "2      NaN      NaN      NaN      NaN      NaN      NaN      NaN      NaN   \n",
      "3        0        0        0        0        1        1        0        0   \n",
      "4      NaN      NaN      NaN      NaN      NaN      NaN      NaN      NaN   \n",
      "\n",
      "  pixel782 pixel783  \n",
      "0      NaN      NaN  \n",
      "1        0        0  \n",
      "2      NaN      NaN  \n",
      "3        0        0  \n",
      "4      NaN      NaN  \n",
      "\n",
      "[5 rows x 784 columns]\n",
      "0    NaN\n",
      "1      0\n",
      "2    NaN\n",
      "3      0\n",
      "4    NaN\n",
      "Name: label, dtype: object\n"
     ]
    }
   ],
   "source": [
    "import pandas as pd\n",
    "# Load the CSV file into a DataFrame\n",
    "data = pd.read_csv('dataset.csv')\n",
    "# Verify the type of 'data' to ensure it's a DataFrame\n",
    "print(type(data))  # Should print <class 'pandas.core.frame.DataFrame'>\n",
    "# Assuming 'data' is now a DataFrame, you can drop the 'label' column\n",
    "X = data.drop(['label'], axis=1)\n",
    "Y = data['label']\n",
    "# Display the first few rows of X and Y to verify\n",
    "print(X.head())\n",
    "print(Y.head())"
   ]
  },
  {
   "cell_type": "markdown",
   "id": "b715193b",
   "metadata": {},
   "source": [
    "#### Preview of one image using matplotlib"
   ]
  },
  {
   "cell_type": "code",
   "execution_count": 115,
   "id": "1c037d51",
   "metadata": {},
   "outputs": [
    {
     "name": "stdout",
     "output_type": "stream",
     "text": [
      "RangeIndex(start=0, stop=308, step=1)\n"
     ]
    }
   ],
   "source": [
    "print(X.index)"
   ]
  },
  {
   "cell_type": "code",
   "execution_count": null,
   "id": "682364c6",
   "metadata": {},
   "outputs": [],
   "source": []
  },
  {
   "cell_type": "code",
   "execution_count": 116,
   "id": "682564b2",
   "metadata": {},
   "outputs": [],
   "source": [
    "import pandas as pd\n",
    "\n",
    "# Load the CSV file into a DataFrame\n",
    "data = pd.read_csv('dataset.csv')\n",
    "\n",
    "# Define the features and labels\n",
    "X = data.drop(['label'], axis=1)\n",
    "Y = data['label']\n"
   ]
  },
  {
   "cell_type": "code",
   "execution_count": 117,
   "id": "d4703446",
   "metadata": {},
   "outputs": [
    {
     "name": "stdout",
     "output_type": "stream",
     "text": [
      "  pixel0 pixel1 pixel2 pixel3 pixel4 pixel5 pixel6 pixel7 pixel8 pixel9  ...  \\\n",
      "0    NaN    NaN    NaN    NaN    NaN    NaN    NaN    NaN    NaN    NaN  ...   \n",
      "1      1      1      1      1      1      1      1      1      1      1  ...   \n",
      "2    NaN    NaN    NaN    NaN    NaN    NaN    NaN    NaN    NaN    NaN  ...   \n",
      "3      1      1      1      1      1      1      1      1      1      1  ...   \n",
      "4    NaN    NaN    NaN    NaN    NaN    NaN    NaN    NaN    NaN    NaN  ...   \n",
      "\n",
      "  pixel774 pixel775 pixel776 pixel777 pixel778 pixel779 pixel780 pixel781  \\\n",
      "0      NaN      NaN      NaN      NaN      NaN      NaN      NaN      NaN   \n",
      "1        0        0        0        0        1        1        0        0   \n",
      "2      NaN      NaN      NaN      NaN      NaN      NaN      NaN      NaN   \n",
      "3        0        0        0        0        1        1        0        0   \n",
      "4      NaN      NaN      NaN      NaN      NaN      NaN      NaN      NaN   \n",
      "\n",
      "  pixel782 pixel783  \n",
      "0      NaN      NaN  \n",
      "1        0        0  \n",
      "2      NaN      NaN  \n",
      "3        0        0  \n",
      "4      NaN      NaN  \n",
      "\n",
      "[5 rows x 784 columns]\n",
      "0    NaN\n",
      "1      0\n",
      "2    NaN\n",
      "3      0\n",
      "4    NaN\n",
      "Name: label, dtype: object\n"
     ]
    }
   ],
   "source": [
    "print(X.head())\n",
    "print(Y.head())"
   ]
  },
  {
   "cell_type": "code",
   "execution_count": 118,
   "id": "44b37596",
   "metadata": {},
   "outputs": [
    {
     "name": "stdout",
     "output_type": "stream",
     "text": [
      "File loaded successfully\n"
     ]
    }
   ],
   "source": [
    "import os\n",
    "\n",
    "file_path = \"dataset.csv\"\n",
    "\n",
    "if os.path.exists(file_path):\n",
    "    df = pd.read_csv(file_path)\n",
    "    print(\"File loaded successfully\")\n",
    "else:\n",
    "    print(\"Error: File not found!\")\n"
   ]
  },
  {
   "cell_type": "code",
   "execution_count": 119,
   "id": "e5575a02",
   "metadata": {},
   "outputs": [],
   "source": [
    "from sklearn.model_selection import train_test_split\n",
    "# Ensure dataset is not empty\n",
    "if df.empty:\n",
    "    raise ValueError(\"Dataset is empty! Please check the file.\")\n",
    "# Define features and target\n",
    "X = df.drop(columns=[\"label\"])\n",
    "y = df[\"label\"]\n",
    "# Perform stratified splitting\n",
    "#train_x, test_x, train_y, test_y = train_test_split(X, y, test_size=0.2, stratify=y, random_state=42)\n",
    "#print(train_y.value_counts())  # Verify that multiple classes exist\n"
   ]
  },
  {
   "cell_type": "code",
   "execution_count": 120,
   "id": "1cda8e90",
   "metadata": {},
   "outputs": [
    {
     "name": "stdout",
     "output_type": "stream",
     "text": [
      "Train shape: (246, 784) (246,)\n",
      "Test shape: (62, 784) (62,)\n"
     ]
    }
   ],
   "source": [
    "from sklearn.model_selection import train_test_split\n",
    "\n",
    "train_x, test_x, train_Y, test_Y = train_test_split(X, Y, test_size=0.2, random_state=42)\n",
    "\n",
    "print(\"Train shape:\", train_x.shape, train_Y.shape)\n",
    "print(\"Test shape:\", test_x.shape, test_Y.shape)"
   ]
  },
  {
   "cell_type": "code",
   "execution_count": 121,
   "id": "1f487ecd",
   "metadata": {},
   "outputs": [
    {
     "name": "stdout",
     "output_type": "stream",
     "text": [
      "pixel0      float64\n",
      "pixel1      float64\n",
      "pixel2      float64\n",
      "pixel3      float64\n",
      "pixel4      float64\n",
      "             ...   \n",
      "pixel779    float64\n",
      "pixel780    float64\n",
      "pixel781    float64\n",
      "pixel782    float64\n",
      "pixel783    float64\n",
      "Length: 784, dtype: object\n",
      "pixel0      float64\n",
      "pixel1      float64\n",
      "pixel2      float64\n",
      "pixel3      float64\n",
      "pixel4      float64\n",
      "             ...   \n",
      "pixel779    float64\n",
      "pixel780    float64\n",
      "pixel781    float64\n",
      "pixel782    float64\n",
      "pixel783    float64\n",
      "Length: 784, dtype: object\n",
      "(186, 784) (139,)\n",
      "(50, 784) (35,)\n"
     ]
    }
   ],
   "source": [
    "import pandas as pd\n",
    "\n",
    "# Convert all columns to numeric, forcing errors to NaN\n",
    "train_x = train_x.apply(pd.to_numeric, errors='coerce')\n",
    "test_x = test_x.apply(pd.to_numeric, errors='coerce')\n",
    "\n",
    "# Drop rows with NaN values\n",
    "train_x.dropna(inplace=True)\n",
    "test_x.dropna(inplace=True)\n",
    "\n",
    "# Ensure train_y and test_y do not contain NaN values\n",
    "train_y.dropna(inplace=True)\n",
    "test_y.dropna(inplace=True)\n",
    "\n",
    "# Verify the data types and shapes\n",
    "print(train_x.dtypes)\n",
    "print(test_x.dtypes)\n",
    "print(train_x.shape, train_y.shape)\n",
    "print(test_x.shape, test_y.shape)"
   ]
  },
  {
   "cell_type": "code",
   "execution_count": 122,
   "id": "6c3ec00e",
   "metadata": {},
   "outputs": [
    {
     "name": "stdout",
     "output_type": "stream",
     "text": [
      "pixel0      float64\n",
      "pixel1      float64\n",
      "pixel2      float64\n",
      "pixel3      float64\n",
      "pixel4      float64\n",
      "             ...   \n",
      "pixel779    float64\n",
      "pixel780    float64\n",
      "pixel781    float64\n",
      "pixel782    float64\n",
      "pixel783    float64\n",
      "Length: 784, dtype: object\n",
      "pixel0      float64\n",
      "pixel1      float64\n",
      "pixel2      float64\n",
      "pixel3      float64\n",
      "pixel4      float64\n",
      "             ...   \n",
      "pixel779    float64\n",
      "pixel780    float64\n",
      "pixel781    float64\n",
      "pixel782    float64\n",
      "pixel783    float64\n",
      "Length: 784, dtype: object\n"
     ]
    }
   ],
   "source": [
    "# Drop rows with NaN values in 'test_Y' and 'train_Y'\n",
    "test_Y = test_Y.dropna()\n",
    "train_Y = train_Y.dropna()\n",
    "\n",
    "# Ensure all pixel values are numeric\n",
    "test_x = test_x.apply(pd.to_numeric, errors='coerce')\n",
    "train_x = train_x.apply(pd.to_numeric, errors='coerce')\n",
    "\n",
    "# Drop rows with NaN values in 'test_x' and 'train_x'\n",
    "test_x = test_x.dropna()\n",
    "train_x = train_x.dropna()\n",
    "\n",
    "# Verify the data types\n",
    "print(test_x.dtypes)\n",
    "print(train_x.dtypes)"
   ]
  },
  {
   "cell_type": "markdown",
   "id": "7035c2a6",
   "metadata": {},
   "source": [
    "#### ✅ Step 1: Check the Data"
   ]
  },
  {
   "cell_type": "markdown",
   "id": "5c416521",
   "metadata": {},
   "source": [
    "#### Run the code to see first few rows of data frame"
   ]
  },
  {
   "cell_type": "code",
   "execution_count": 123,
   "id": "4e4bae7f",
   "metadata": {},
   "outputs": [
    {
     "name": "stdout",
     "output_type": "stream",
     "text": [
      "  label pixel0 pixel1 pixel2 pixel3 pixel4 pixel5 pixel6 pixel7 pixel8  ...  \\\n",
      "0   NaN    NaN    NaN    NaN    NaN    NaN    NaN    NaN    NaN    NaN  ...   \n",
      "1     0      1      1      1      1      1      1      1      1      1  ...   \n",
      "2   NaN    NaN    NaN    NaN    NaN    NaN    NaN    NaN    NaN    NaN  ...   \n",
      "3     0      1      1      1      1      1      1      1      1      1  ...   \n",
      "4   NaN    NaN    NaN    NaN    NaN    NaN    NaN    NaN    NaN    NaN  ...   \n",
      "\n",
      "  pixel774 pixel775 pixel776 pixel777 pixel778 pixel779 pixel780 pixel781  \\\n",
      "0      NaN      NaN      NaN      NaN      NaN      NaN      NaN      NaN   \n",
      "1        0        0        0        0        1        1        0        0   \n",
      "2      NaN      NaN      NaN      NaN      NaN      NaN      NaN      NaN   \n",
      "3        0        0        0        0        1        1        0        0   \n",
      "4      NaN      NaN      NaN      NaN      NaN      NaN      NaN      NaN   \n",
      "\n",
      "  pixel782 pixel783  \n",
      "0      NaN      NaN  \n",
      "1        0        0  \n",
      "2      NaN      NaN  \n",
      "3        0        0  \n",
      "4      NaN      NaN  \n",
      "\n",
      "[5 rows x 785 columns]\n"
     ]
    }
   ],
   "source": [
    "print(df.head())  # Show the first few rows of the DataFrame"
   ]
  },
  {
   "cell_type": "markdown",
   "id": "daff1f37",
   "metadata": {},
   "source": [
    "#### ✅ Step 2: Reload the CSV with Correct Headers\n"
   ]
  },
  {
   "cell_type": "code",
   "execution_count": 124,
   "id": "323186ab",
   "metadata": {},
   "outputs": [
    {
     "name": "stdout",
     "output_type": "stream",
     "text": [
      "  label pixel0 pixel1 pixel2 pixel3 pixel4 pixel5 pixel6 pixel7 pixel8  ...  \\\n",
      "0   NaN    NaN    NaN    NaN    NaN    NaN    NaN    NaN    NaN    NaN  ...   \n",
      "1     0      1      1      1      1      1      1      1      1      1  ...   \n",
      "2   NaN    NaN    NaN    NaN    NaN    NaN    NaN    NaN    NaN    NaN  ...   \n",
      "3     0      1      1      1      1      1      1      1      1      1  ...   \n",
      "4   NaN    NaN    NaN    NaN    NaN    NaN    NaN    NaN    NaN    NaN  ...   \n",
      "\n",
      "  pixel774 pixel775 pixel776 pixel777 pixel778 pixel779 pixel780 pixel781  \\\n",
      "0      NaN      NaN      NaN      NaN      NaN      NaN      NaN      NaN   \n",
      "1        0        0        0        0        1        1        0        0   \n",
      "2      NaN      NaN      NaN      NaN      NaN      NaN      NaN      NaN   \n",
      "3        0        0        0        0        1        1        0        0   \n",
      "4      NaN      NaN      NaN      NaN      NaN      NaN      NaN      NaN   \n",
      "\n",
      "  pixel782 pixel783  \n",
      "0      NaN      NaN  \n",
      "1        0        0  \n",
      "2      NaN      NaN  \n",
      "3        0        0  \n",
      "4      NaN      NaN  \n",
      "\n",
      "[5 rows x 785 columns]\n"
     ]
    }
   ],
   "source": [
    "import pandas as pd\n",
    "\n",
    "df = pd.read_csv(\"dataset.csv\", header=0)  # Ensure first row is treated as headers\n",
    "print(df.head())  # Check if data looks correct now\n"
   ]
  },
  {
   "cell_type": "code",
   "execution_count": 125,
   "id": "17b5cf15",
   "metadata": {},
   "outputs": [],
   "source": [
    "df = pd.read_csv(\"dataset.csv\", header=None)  # No header\n"
   ]
  },
  {
   "cell_type": "markdown",
   "id": "09b21bdc",
   "metadata": {},
   "source": [
    "##### Manually set Column names"
   ]
  },
  {
   "cell_type": "code",
   "execution_count": 126,
   "id": "5f0794d6",
   "metadata": {},
   "outputs": [],
   "source": [
    "column_names = [\"label\"] + [f\"pixel{i}\" for i in range(784)]  # Assuming 784 pixel features\n",
    "df.columns = column_names"
   ]
  },
  {
   "cell_type": "markdown",
   "id": "09d7fbcb",
   "metadata": {},
   "source": [
    "#### ✅Step 3: Remove Any Non-Numeric Rows"
   ]
  },
  {
   "cell_type": "code",
   "execution_count": 127,
   "id": "e79f625b",
   "metadata": {},
   "outputs": [],
   "source": [
    "df = df[pd.to_numeric(df[\"pixel0\"], errors=\"coerce\").notna()]  # Keep only numeric rows\n"
   ]
  },
  {
   "cell_type": "code",
   "execution_count": 128,
   "id": "25192266",
   "metadata": {},
   "outputs": [],
   "source": [
    "df = df.astype(float)  # Convert entire DataFrame to float"
   ]
  },
  {
   "cell_type": "markdown",
   "id": "de99bf22",
   "metadata": {},
   "source": [
    "#### ✅Step 4: Ensure Correct Feature Extraction"
   ]
  },
  {
   "cell_type": "code",
   "execution_count": 129,
   "id": "1873163f",
   "metadata": {},
   "outputs": [],
   "source": [
    "X = df.drop(columns=[\"label\"])  # Features (all pixel values)\n",
    "y = df[\"label\"]  # Labels (digits)\n"
   ]
  },
  {
   "cell_type": "markdown",
   "id": "74fb7343",
   "metadata": {},
   "source": [
    "#### ✅ Step5: Check Data Types"
   ]
  },
  {
   "cell_type": "code",
   "execution_count": 130,
   "id": "6d451bef",
   "metadata": {},
   "outputs": [
    {
     "name": "stdout",
     "output_type": "stream",
     "text": [
      "label       float64\n",
      "pixel0      float64\n",
      "pixel1      float64\n",
      "pixel2      float64\n",
      "pixel3      float64\n",
      "             ...   \n",
      "pixel779    float64\n",
      "pixel780    float64\n",
      "pixel781    float64\n",
      "pixel782    float64\n",
      "pixel783    float64\n",
      "Length: 785, dtype: object\n"
     ]
    }
   ],
   "source": [
    "print(df.dtypes)\n"
   ]
  },
  {
   "cell_type": "code",
   "execution_count": 131,
   "id": "9b909783",
   "metadata": {},
   "outputs": [
    {
     "name": "stdout",
     "output_type": "stream",
     "text": [
      "6        31\n",
      "0        25\n",
      "1        25\n",
      "2        25\n",
      "3        25\n",
      "4        25\n",
      "5        25\n",
      "8        20\n",
      "9        20\n",
      "7        15\n",
      "label     3\n",
      "Name: label, dtype: int64\n"
     ]
    }
   ],
   "source": [
    "import pandas as pd\n",
    "\n",
    "df = pd.read_csv(\"dataset.csv\")  # Load dataset\n",
    "print(df[\"label\"].value_counts())  # Show class distribution\n"
   ]
  },
  {
   "cell_type": "code",
   "execution_count": 132,
   "id": "0ba0e15d",
   "metadata": {},
   "outputs": [
    {
     "name": "stdout",
     "output_type": "stream",
     "text": [
      "6        31\n",
      "0        25\n",
      "1        25\n",
      "2        25\n",
      "3        25\n",
      "4        25\n",
      "5        25\n",
      "8        20\n",
      "9        20\n",
      "7        15\n",
      "label     3\n",
      "Name: label, dtype: int64\n"
     ]
    }
   ],
   "source": [
    "df = df[df[\"label\"].map(df[\"label\"].value_counts()) > 1]\n",
    "print(df[\"label\"].value_counts())  # Check if problem is fixed\n"
   ]
  },
  {
   "cell_type": "code",
   "execution_count": 133,
   "id": "a95a50b9",
   "metadata": {},
   "outputs": [
    {
     "name": "stdout",
     "output_type": "stream",
     "text": [
      "6        25\n",
      "2        20\n",
      "3        20\n",
      "0        20\n",
      "5        20\n",
      "4        20\n",
      "1        20\n",
      "8        16\n",
      "9        16\n",
      "7        12\n",
      "label     2\n",
      "Name: label, dtype: int64\n"
     ]
    }
   ],
   "source": [
    "from sklearn.model_selection import train_test_split\n",
    "X = df.drop(columns=[\"label\"])\n",
    "y = df[\"label\"]\n",
    "train_x, test_x, train_y, test_y = train_test_split(X, y, test_size=0.2, stratify=y, random_state=6)\n",
    "print(train_y.value_counts())  # Check class distribution in training set\n"
   ]
  },
  {
   "cell_type": "code",
   "execution_count": 134,
   "id": "1d85c19c",
   "metadata": {},
   "outputs": [],
   "source": [
    "train_x, test_x, train_y, test_y = train_test_split(X, y, test_size=0.2, random_state=42)\n"
   ]
  },
  {
   "cell_type": "code",
   "execution_count": 135,
   "id": "dd65b639",
   "metadata": {},
   "outputs": [
    {
     "name": "stdout",
     "output_type": "stream",
     "text": [
      "Dataset shape: (308, 785)\n",
      "  label pixel0 pixel1 pixel2 pixel3 pixel4 pixel5 pixel6 pixel7 pixel8  ...  \\\n",
      "0   NaN    NaN    NaN    NaN    NaN    NaN    NaN    NaN    NaN    NaN  ...   \n",
      "1     0      1      1      1      1      1      1      1      1      1  ...   \n",
      "2   NaN    NaN    NaN    NaN    NaN    NaN    NaN    NaN    NaN    NaN  ...   \n",
      "3     0      1      1      1      1      1      1      1      1      1  ...   \n",
      "4   NaN    NaN    NaN    NaN    NaN    NaN    NaN    NaN    NaN    NaN  ...   \n",
      "\n",
      "  pixel774 pixel775 pixel776 pixel777 pixel778 pixel779 pixel780 pixel781  \\\n",
      "0      NaN      NaN      NaN      NaN      NaN      NaN      NaN      NaN   \n",
      "1        0        0        0        0        1        1        0        0   \n",
      "2      NaN      NaN      NaN      NaN      NaN      NaN      NaN      NaN   \n",
      "3        0        0        0        0        1        1        0        0   \n",
      "4      NaN      NaN      NaN      NaN      NaN      NaN      NaN      NaN   \n",
      "\n",
      "  pixel782 pixel783  \n",
      "0      NaN      NaN  \n",
      "1        0        0  \n",
      "2      NaN      NaN  \n",
      "3        0        0  \n",
      "4      NaN      NaN  \n",
      "\n",
      "[5 rows x 785 columns]\n"
     ]
    }
   ],
   "source": [
    "import pandas as pd\n",
    "\n",
    "df = pd.read_csv(\"dataset.csv\")\n",
    "print(\"Dataset shape:\", df.shape)  # Check number of rows and columns\n",
    "print(df.head())  # Display first few rows\n"
   ]
  },
  {
   "cell_type": "code",
   "execution_count": 136,
   "id": "6ae6e5cf",
   "metadata": {},
   "outputs": [
    {
     "data": {
      "image/png": "[encoded data removed]",
      "text/plain": [
       "<Figure size 432x288 with 1 Axes>"
      ]
     },
     "metadata": {
      "needs_background": "light"
     },
     "output_type": "display_data"
    }
   ],
   "source": [
    "import pandas as pd\n",
    "\n",
    "import matplotlib.pyplot as plt\n",
    "\n",
    "# Ensure all data in train_x is numeric\n",
    "train_x = train_x.apply(pd.to_numeric, errors='coerce')\n",
    "\n",
    "# Drop any rows with NaN values that may have resulted from the conversion\n",
    "train_x.dropna(inplace=True)\n",
    "\n",
    "# Define a valid index\n",
    "idx = 65  # Replace with an index that exists in train_x\n",
    "\n",
    "# Ensure you have a valid index\n",
    "if idx in train_x.index:\n",
    "    img = train_x.loc[idx].values.reshape(28, 28)\n",
    "    plt.imshow(img, cmap='gray')\n",
    "    plt.title(f\"Label: {train_Y.loc[idx]}\")\n",
    "    plt.show()\n",
    "else:\n",
    "    print(f\"Index {idx} not found in the DataFrame.\")"
   ]
  },
  {
   "cell_type": "markdown",
   "id": "d3a18a59",
   "metadata": {},
   "source": [
    "#### Train-test split"
   ]
  },
  {
   "cell_type": "code",
   "execution_count": null,
   "id": "6bcf2cb4",
   "metadata": {},
   "outputs": [],
   "source": []
  },
  {
   "cell_type": "code",
   "execution_count": null,
   "id": "738752ac",
   "metadata": {},
   "outputs": [
    {
     "ename": "ValueError",
     "evalue": "Found input variables with inconsistent numbers of samples: [239, 308]",
     "output_type": "error",
     "traceback": [
      "\u001b[1;31m---------------------------------------------------------------------------\u001b[0m",
      "\u001b[1;31mValueError\u001b[0m                                Traceback (most recent call last)",
      "\u001b[1;32mC:\\Users\\ERMUSH~1\\AppData\\Local\\Temp/ipykernel_21104/2951563090.py\u001b[0m in \u001b[0;36m<module>\u001b[1;34m\u001b[0m\n\u001b[0;32m      1\u001b[0m \u001b[1;32mfrom\u001b[0m \u001b[0msklearn\u001b[0m\u001b[1;33m.\u001b[0m\u001b[0mmodel_selection\u001b[0m \u001b[1;32mimport\u001b[0m \u001b[0mtrain_test_split\u001b[0m\u001b[1;33m\u001b[0m\u001b[1;33m\u001b[0m\u001b[0m\n\u001b[1;32m----> 2\u001b[1;33m \u001b[0mtrain_x\u001b[0m\u001b[1;33m,\u001b[0m\u001b[0mtest_x\u001b[0m\u001b[1;33m,\u001b[0m\u001b[0mtrain_y\u001b[0m\u001b[1;33m,\u001b[0m\u001b[0mtest_y\u001b[0m\u001b[1;33m=\u001b[0m \u001b[0mtrain_test_split\u001b[0m\u001b[1;33m(\u001b[0m\u001b[0mX\u001b[0m\u001b[1;33m,\u001b[0m\u001b[0mY\u001b[0m\u001b[1;33m,\u001b[0m \u001b[0mtest_size\u001b[0m\u001b[1;33m=\u001b[0m\u001b[1;36m0.2\u001b[0m\u001b[1;33m)\u001b[0m\u001b[1;33m\u001b[0m\u001b[1;33m\u001b[0m\u001b[0m\n\u001b[0m",
      "\u001b[1;32mC:\\ProgramData\\Anaconda3\\lib\\site-packages\\sklearn\\model_selection\\_split.py\u001b[0m in \u001b[0;36mtrain_test_split\u001b[1;34m(test_size, train_size, random_state, shuffle, stratify, *arrays)\u001b[0m\n\u001b[0;32m   2170\u001b[0m         \u001b[1;32mraise\u001b[0m \u001b[0mValueError\u001b[0m\u001b[1;33m(\u001b[0m\u001b[1;34m\"At least one array required as input\"\u001b[0m\u001b[1;33m)\u001b[0m\u001b[1;33m\u001b[0m\u001b[1;33m\u001b[0m\u001b[0m\n\u001b[0;32m   2171\u001b[0m \u001b[1;33m\u001b[0m\u001b[0m\n\u001b[1;32m-> 2172\u001b[1;33m     \u001b[0marrays\u001b[0m \u001b[1;33m=\u001b[0m \u001b[0mindexable\u001b[0m\u001b[1;33m(\u001b[0m\u001b[1;33m*\u001b[0m\u001b[0marrays\u001b[0m\u001b[1;33m)\u001b[0m\u001b[1;33m\u001b[0m\u001b[1;33m\u001b[0m\u001b[0m\n\u001b[0m\u001b[0;32m   2173\u001b[0m \u001b[1;33m\u001b[0m\u001b[0m\n\u001b[0;32m   2174\u001b[0m     \u001b[0mn_samples\u001b[0m \u001b[1;33m=\u001b[0m \u001b[0m_num_samples\u001b[0m\u001b[1;33m(\u001b[0m\u001b[0marrays\u001b[0m\u001b[1;33m[\u001b[0m\u001b[1;36m0\u001b[0m\u001b[1;33m]\u001b[0m\u001b[1;33m)\u001b[0m\u001b[1;33m\u001b[0m\u001b[1;33m\u001b[0m\u001b[0m\n",
      "\u001b[1;32mC:\\ProgramData\\Anaconda3\\lib\\site-packages\\sklearn\\utils\\validation.py\u001b[0m in \u001b[0;36mindexable\u001b[1;34m(*iterables)\u001b[0m\n\u001b[0;32m    354\u001b[0m     \"\"\"\n\u001b[0;32m    355\u001b[0m     \u001b[0mresult\u001b[0m \u001b[1;33m=\u001b[0m \u001b[1;33m[\u001b[0m\u001b[0m_make_indexable\u001b[0m\u001b[1;33m(\u001b[0m\u001b[0mX\u001b[0m\u001b[1;33m)\u001b[0m \u001b[1;32mfor\u001b[0m \u001b[0mX\u001b[0m \u001b[1;32min\u001b[0m \u001b[0miterables\u001b[0m\u001b[1;33m]\u001b[0m\u001b[1;33m\u001b[0m\u001b[1;33m\u001b[0m\u001b[0m\n\u001b[1;32m--> 356\u001b[1;33m     \u001b[0mcheck_consistent_length\u001b[0m\u001b[1;33m(\u001b[0m\u001b[1;33m*\u001b[0m\u001b[0mresult\u001b[0m\u001b[1;33m)\u001b[0m\u001b[1;33m\u001b[0m\u001b[1;33m\u001b[0m\u001b[0m\n\u001b[0m\u001b[0;32m    357\u001b[0m     \u001b[1;32mreturn\u001b[0m \u001b[0mresult\u001b[0m\u001b[1;33m\u001b[0m\u001b[1;33m\u001b[0m\u001b[0m\n\u001b[0;32m    358\u001b[0m \u001b[1;33m\u001b[0m\u001b[0m\n",
      "\u001b[1;32mC:\\ProgramData\\Anaconda3\\lib\\site-packages\\sklearn\\utils\\validation.py\u001b[0m in \u001b[0;36mcheck_consistent_length\u001b[1;34m(*arrays)\u001b[0m\n\u001b[0;32m    317\u001b[0m     \u001b[0muniques\u001b[0m \u001b[1;33m=\u001b[0m \u001b[0mnp\u001b[0m\u001b[1;33m.\u001b[0m\u001b[0munique\u001b[0m\u001b[1;33m(\u001b[0m\u001b[0mlengths\u001b[0m\u001b[1;33m)\u001b[0m\u001b[1;33m\u001b[0m\u001b[1;33m\u001b[0m\u001b[0m\n\u001b[0;32m    318\u001b[0m     \u001b[1;32mif\u001b[0m \u001b[0mlen\u001b[0m\u001b[1;33m(\u001b[0m\u001b[0muniques\u001b[0m\u001b[1;33m)\u001b[0m \u001b[1;33m>\u001b[0m \u001b[1;36m1\u001b[0m\u001b[1;33m:\u001b[0m\u001b[1;33m\u001b[0m\u001b[1;33m\u001b[0m\u001b[0m\n\u001b[1;32m--> 319\u001b[1;33m         raise ValueError(\"Found input variables with inconsistent numbers of\"\n\u001b[0m\u001b[0;32m    320\u001b[0m                          \" samples: %r\" % [int(l) for l in lengths])\n\u001b[0;32m    321\u001b[0m \u001b[1;33m\u001b[0m\u001b[0m\n",
      "\u001b[1;31mValueError\u001b[0m: Found input variables with inconsistent numbers of samples: [239, 308]"
     ]
    }
   ],
   "source": [
    "from sklearn.model_selection import train_test_split\n",
    "train_x,test_x,train_y,test_y= train_test_split(X,Y, test_size=0.2)"
   ]
  },
  {
   "cell_type": "markdown",
   "id": "ccc86191",
   "metadata": {},
   "source": [
    "# 3. Fit the model SVC and also to save the model using joblib"
   ]
  },
  {
   "cell_type": "code",
   "execution_count": null,
   "id": "71ed1212",
   "metadata": {},
   "outputs": [],
   "source": [
    "!pip check\n",
    "!pip uninstall imbalanced-learn\n",
    "!pip install imbalanced-learn"
   ]
  },
  {
   "cell_type": "markdown",
   "id": "8e6fc9c1",
   "metadata": {},
   "source": [
    "### train_test_split()"
   ]
  },
  {
   "cell_type": "code",
   "execution_count": null,
   "id": "af32b76e",
   "metadata": {},
   "outputs": [
    {
     "name": "stdout",
     "output_type": "stream",
     "text": [
      "pixel0      object\n",
      "pixel1      object\n",
      "pixel2      object\n",
      "pixel3      object\n",
      "pixel4      object\n",
      "             ...  \n",
      "pixel779    object\n",
      "pixel780    object\n",
      "pixel781    object\n",
      "pixel782    object\n",
      "pixel783    object\n",
      "Length: 784, dtype: object\n",
      "pixel0      object\n",
      "pixel1      object\n",
      "pixel2      object\n",
      "pixel3      object\n",
      "pixel4      object\n",
      "             ...  \n",
      "pixel779    object\n",
      "pixel780    object\n",
      "pixel781    object\n",
      "pixel782    object\n",
      "pixel783    object\n",
      "Length: 784, dtype: object\n",
      "(142, 784) (142,)\n",
      "(34, 784) (34,)\n"
     ]
    }
   ],
   "source": [
    "# Drop rows with NaN values in train_x, train_y, test_x, and test_y\n",
    "train_x.dropna(inplace=True)\n",
    "train_y.dropna(inplace=True)\n",
    "test_x.dropna(inplace=True)\n",
    "test_y.dropna(inplace=True)\n",
    "\n",
    "# Ensure train_y and test_y do not contain NaN values\n",
    "train_y = train_y[train_y.notna()]\n",
    "test_y = test_y[test_y.notna()]\n",
    "\n",
    "# Verify the data types and shapes\n",
    "print(train_x.dtypes)\n",
    "print(test_x.dtypes)\n",
    "print(train_x.shape, train_y.shape)\n",
    "print(test_x.shape, test_y.shape)"
   ]
  },
  {
   "cell_type": "code",
   "execution_count": null,
   "id": "d61ea1de",
   "metadata": {},
   "outputs": [
    {
     "name": "stdout",
     "output_type": "stream",
     "text": [
      "pixel0      object\n",
      "pixel1      object\n",
      "pixel2      object\n",
      "pixel3      object\n",
      "pixel4      object\n",
      "             ...  \n",
      "pixel779    object\n",
      "pixel780    object\n",
      "pixel781    object\n",
      "pixel782    object\n",
      "pixel783    object\n",
      "Length: 784, dtype: object\n",
      "pixel0      object\n",
      "pixel1      object\n",
      "pixel2      object\n",
      "pixel3      object\n",
      "pixel4      object\n",
      "             ...  \n",
      "pixel779    object\n",
      "pixel780    object\n",
      "pixel781    object\n",
      "pixel782    object\n",
      "pixel783    object\n",
      "Length: 784, dtype: object\n",
      "(142, 784) (142,)\n",
      "(34, 784) (34,)\n"
     ]
    }
   ],
   "source": [
    "import numpy as np\n",
    "\n",
    "# Replace infinities with NaN\n",
    "train_x.replace([np.inf, -np.inf], np.nan, inplace=True)\n",
    "test_x.replace([np.inf, -np.inf], np.nan, inplace=True)\n",
    "\n",
    "# Drop rows with NaN values\n",
    "train_x.dropna(inplace=True)\n",
    "test_x.dropna(inplace=True)\n",
    "\n",
    "# Ensure train_y and test_y do not contain NaN values\n",
    "train_y.dropna(inplace=True)\n",
    "test_y.dropna(inplace=True)\n",
    "\n",
    "# Verify the data types and shapes\n",
    "print(train_x.dtypes)\n",
    "print(test_x.dtypes)\n",
    "print(train_x.shape, train_y.shape)\n",
    "print(test_x.shape, test_y.shape)"
   ]
  },
  {
   "cell_type": "code",
   "execution_count": null,
   "id": "f350e78d",
   "metadata": {},
   "outputs": [],
   "source": [
    "import pandas as pd\n",
    "from sklearn.model_selection import train_test_split\n",
    "\n",
    "# Load your dataset\n",
    "df = pd.read_csv(\"Dataset.csv\")\n",
    "\n",
    "# Define features and target variable\n",
    "X = df.drop(columns=[\"label\"])  # Replace with your target column name\n",
    "y = df[\"label\"]\n",
    "\n",
    "# Split into training and testing sets\n",
    "train_x, test_x, train_y, test_y = train_test_split(X, y, test_size=0.2, random_state=42)\n",
    "\n",
    "# Now, train_x and train_y are defined and can be used\n"
   ]
  },
  {
   "cell_type": "code",
   "execution_count": null,
   "id": "a7a9f244",
   "metadata": {},
   "outputs": [],
   "source": [
    "print(train_x.shape, train_y.shape)  # Should output valid dimensions\n"
   ]
  },
  {
   "cell_type": "code",
   "execution_count": null,
   "id": "767fac6f",
   "metadata": {},
   "outputs": [
    {
     "name": "stdout",
     "output_type": "stream",
     "text": [
      "label       float64\n",
      "pixel0      float64\n",
      "pixel1      float64\n",
      "pixel2      float64\n",
      "pixel3      float64\n",
      "             ...   \n",
      "pixel779    float64\n",
      "pixel780    float64\n",
      "pixel781    float64\n",
      "pixel782    float64\n",
      "pixel783    float64\n",
      "Length: 785, dtype: object\n",
      "(174, 785)\n",
      "(139, 784) (139,)\n",
      "(35, 784) (35,)\n"
     ]
    }
   ],
   "source": [
    "import pandas as pd\n",
    "from sklearn.model_selection import train_test_split\n",
    "\n",
    "# Load the dataset\n",
    "df = pd.read_csv(\"dataset.csv\")\n",
    "\n",
    "# Drop rows where any element is non-numeric\n",
    "df = df.apply(pd.to_numeric, errors='coerce').dropna()\n",
    "\n",
    "# Verify the data types and shapes\n",
    "print(df.dtypes)\n",
    "print(df.shape)\n",
    "\n",
    "# Define features and labels\n",
    "X = df.drop(columns=[\"label\"])\n",
    "y = df[\"label\"]\n",
    "\n",
    "# Split into training and testing sets\n",
    "train_x, test_x, train_y, test_y = train_test_split(X, y, test_size=0.2, random_state=42)\n",
    "\n",
    "# Verify the shapes of the splits\n",
    "print(train_x.shape, train_y.shape)\n",
    "print(test_x.shape, test_y.shape)"
   ]
  },
  {
   "cell_type": "markdown",
   "id": "90476567",
   "metadata": {},
   "source": [
    "#### Calculate the accuracy"
   ]
  },
  {
   "cell_type": "code",
   "execution_count": null,
   "id": "c9b263a0",
   "metadata": {},
   "outputs": [
    {
     "ename": "ModuleNotFoundError",
     "evalue": "No module named 'imblearn'",
     "output_type": "error",
     "traceback": [
      "\u001b[1;31m---------------------------------------------------------------------------\u001b[0m",
      "\u001b[1;31mModuleNotFoundError\u001b[0m                       Traceback (most recent call last)",
      "\u001b[1;32mC:\\Users\\ERMUSH~1\\AppData\\Local\\Temp/ipykernel_21104/2872867181.py\u001b[0m in \u001b[0;36m<module>\u001b[1;34m\u001b[0m\n\u001b[0;32m      3\u001b[0m \u001b[1;32mfrom\u001b[0m \u001b[0msklearn\u001b[0m\u001b[1;33m.\u001b[0m\u001b[0msvm\u001b[0m \u001b[1;32mimport\u001b[0m \u001b[0mSVC\u001b[0m\u001b[1;33m\u001b[0m\u001b[1;33m\u001b[0m\u001b[0m\n\u001b[0;32m      4\u001b[0m \u001b[1;32mimport\u001b[0m \u001b[0mjoblib\u001b[0m\u001b[1;33m\u001b[0m\u001b[1;33m\u001b[0m\u001b[0m\n\u001b[1;32m----> 5\u001b[1;33m \u001b[1;32mfrom\u001b[0m \u001b[0mimblearn\u001b[0m\u001b[1;33m.\u001b[0m\u001b[0mover_sampling\u001b[0m \u001b[1;32mimport\u001b[0m \u001b[0mSMOTE\u001b[0m\u001b[1;33m\u001b[0m\u001b[1;33m\u001b[0m\u001b[0m\n\u001b[0m\u001b[0;32m      6\u001b[0m \u001b[1;32mimport\u001b[0m \u001b[0mos\u001b[0m\u001b[1;33m\u001b[0m\u001b[1;33m\u001b[0m\u001b[0m\n\u001b[0;32m      7\u001b[0m \u001b[1;33m\u001b[0m\u001b[0m\n",
      "\u001b[1;31mModuleNotFoundError\u001b[0m: No module named 'imblearn'"
     ]
    }
   ],
   "source": [
    "import pandas as pd\n",
    "from sklearn.model_selection import train_test_split\n",
    "from sklearn.svm import SVC\n",
    "import joblib\n",
    "from imblearn.over_sampling import SMOTE\n",
    "import os\n",
    "\n",
    "# Load the CSV file into a DataFrame\n",
    "try:\n",
    "    data = pd.read_csv('dataset.csv')\n",
    "    if data.empty:\n",
    "        print(\"The dataset is empty. Check the file path or contents.\")\n",
    "    else:\n",
    "        print(data.head())\n",
    "except FileNotFoundError:\n",
    "    print(\"The file 'dataset.csv' was not found. Please check the file path.\")\n",
    "except pd.errors.EmptyDataError:\n",
    "    print(\"The file is empty. Please check the file contents.\")\n",
    "except Exception as e:\n",
    "    print(f\"An error occurred: {e}\")\n",
    "\n",
    "# Proceed if data is correctly loaded\n",
    "if 'data' in locals() and not data.empty:\n",
    "    # Check unique values and class distribution in 'label' column\n",
    "    unique_labels = data['label'].unique()\n",
    "    class_counts = data['label'].value_counts()\n",
    "    print(f\"Unique classes in 'label' column: {unique_labels}\")\n",
    "    print(f\"Class distribution in the original data:\\n{class_counts}\")\n",
    "\n",
    "    # Define features and labels\n",
    "    X = data.drop(['label'], axis=1)\n",
    "    Y = data['label']\n",
    "\n",
    "    # Apply SMOTE to balance the dataset\n",
    "    smote = SMOTE(random_state=42)\n",
    "    X_resampled, Y_resampled = smote.fit_resample(X, Y)\n",
    "\n",
    "    # Check class distribution in the resampled data\n",
    "    resampled_class_counts = pd.Series(Y_resampled).value_counts()\n",
    "    print(f\"Class distribution in the resampled data:\\n{resampled_class_counts}\")\n",
    "\n",
    "    # Split the resampled data into training and testing sets\n",
    "    train_x, test_x, train_y, test_y = train_test_split(X_resampled, Y_resampled, test_size=0.2, random_state=42, stratify=Y_resampled)\n",
    "\n",
    "    # Check class distribution in train_y\n",
    "    train_class_counts = train_y.value_counts()\n",
    "    print(f\"Class distribution in the training data:\\n{train_class_counts}\")\n",
    "\n",
    "    # Initialize the classifier\n",
    "    classifier = SVC(kernel=\"linear\", random_state=6)\n",
    "\n",
    "    # Fit the classifier with training data\n",
    "    classifier.fit(train_x, train_y)\n",
    "\n",
    "    # Save the model with versioning\n",
    "    model_dir = \"model\"\n",
    "    if not os.path.exists(model_dir):\n",
    "        os.makedirs(model_dir)\n",
    "    model_path = os.path.join(model_dir, \"digit_recognizer_v1.pkl\")\n",
    "    joblib.dump(classifier, model_path)\n"
   ]
  },
  {
   "cell_type": "code",
   "execution_count": 103,
   "id": "aca6c69b",
   "metadata": {},
   "outputs": [
    {
     "name": "stdout",
     "output_type": "stream",
     "text": [
      "Requirement already satisfied: imbalanced-learn in c:\\users\\er mushtaq\\appdata\\local\\packages\\pythonsoftwarefoundation.python.3.11_qbz5n2kfra8p0\\localcache\\local-packages\\python311\\site-packages (0.13.0)\n",
      "Requirement already satisfied: numpy<3,>=1.24.3 in c:\\users\\er mushtaq\\appdata\\local\\packages\\pythonsoftwarefoundation.python.3.11_qbz5n2kfra8p0\\localcache\\local-packages\\python311\\site-packages (from imbalanced-learn) (2.2.0)\n",
      "Requirement already satisfied: scipy<2,>=1.10.1 in c:\\users\\er mushtaq\\appdata\\local\\packages\\pythonsoftwarefoundation.python.3.11_qbz5n2kfra8p0\\localcache\\local-packages\\python311\\site-packages (from imbalanced-learn) (1.14.1)\n",
      "Requirement already satisfied: scikit-learn<2,>=1.3.2 in c:\\users\\er mushtaq\\appdata\\local\\packages\\pythonsoftwarefoundation.python.3.11_qbz5n2kfra8p0\\localcache\\local-packages\\python311\\site-packages (from imbalanced-learn) (1.6.1)\n",
      "Requirement already satisfied: sklearn-compat<1,>=0.1 in c:\\users\\er mushtaq\\appdata\\local\\packages\\pythonsoftwarefoundation.python.3.11_qbz5n2kfra8p0\\localcache\\local-packages\\python311\\site-packages (from imbalanced-learn) (0.1.3)\n",
      "Requirement already satisfied: joblib<2,>=1.1.1 in c:\\users\\er mushtaq\\appdata\\local\\packages\\pythonsoftwarefoundation.python.3.11_qbz5n2kfra8p0\\localcache\\local-packages\\python311\\site-packages (from imbalanced-learn) (1.4.2)\n",
      "Requirement already satisfied: threadpoolctl<4,>=2.0.0 in c:\\users\\er mushtaq\\appdata\\local\\packages\\pythonsoftwarefoundation.python.3.11_qbz5n2kfra8p0\\localcache\\local-packages\\python311\\site-packages (from imbalanced-learn) (3.5.0)\n"
     ]
    }
   ],
   "source": [
    "!pip install imbalanced-learn"
   ]
  },
  {
   "cell_type": "code",
   "execution_count": null,
   "id": "5dd33e1c",
   "metadata": {},
   "outputs": [],
   "source": [
    "import imblearn\n",
    "print(imblearn.__version__)\n"
   ]
  },
  {
   "cell_type": "code",
   "execution_count": null,
   "id": "0102622f",
   "metadata": {},
   "outputs": [],
   "source": [
    "from sklearn import metrics\n",
    "prediction=classifier.predict(test_x)\n",
    "print(\"Accuracy=\",metrics.accuracy_score(prediction,test_y))\n"
   ]
  },
  {
   "cell_type": "code",
   "execution_count": null,
   "id": "3dc26c08",
   "metadata": {},
   "outputs": [],
   "source": [
    "from sklearn.svm import SVC\n",
    "\n",
    "# Initialize the classifier\n",
    "classifier = SVC()\n",
    "\n",
    "# Fit the classifier with the training data\n",
    "classifier.fit(train_x, train_y)\n",
    "\n",
    "# Make predictions on the test data\n",
    "prediction = classifier.predict(test_x)\n",
    "\n",
    "# Print the predictions\n",
    "print(prediction)"
   ]
  },
  {
   "cell_type": "code",
   "execution_count": null,
   "id": "a29cb6c2",
   "metadata": {},
   "outputs": [],
   "source": [
    "import pandas as pd\n",
    "\n",
    "# Convert all columns to numeric, forcing errors to NaN\n",
    "train_x = train_x.apply(pd.to_numeric, errors='coerce')\n",
    "test_x = test_x.apply(pd.to_numeric, errors='coerce')\n",
    "\n",
    "# Drop rows with NaN values\n",
    "train_x.dropna(inplace=True)\n",
    "test_x.dropna(inplace=True)\n",
    "\n",
    "# Ensure train_y and test_y do not contain NaN values\n",
    "train_y.dropna(inplace=True)\n",
    "test_y.dropna(inplace=True)\n",
    "\n",
    "# Verify the data types and shapes\n",
    "print(train_x.dtypes)\n",
    "print(test_x.dtypes)\n",
    "print(train_x.shape, train_y.shape)\n",
    "print(test_x.shape, test_y.shape)"
   ]
  },
  {
   "cell_type": "code",
   "execution_count": null,
   "id": "c4aacf92",
   "metadata": {},
   "outputs": [],
   "source": [
    "from sklearn.svm import SVC\n",
    "\n",
    "classifier = SVC()  # or any other model initialization\n",
    "classifier.fit(train_x, train_y)  # Make sure the model is trained\n",
    "\n",
    "prediction = classifier.predict(test_x)\n"
   ]
  },
  {
   "cell_type": "code",
   "execution_count": null,
   "id": "75fbe510",
   "metadata": {},
   "outputs": [],
   "source": [
    "# Check the lengths of train_x and train_y\n",
    "print(f\"Length of train_x: {len(train_x)}\")\n",
    "print(f\"Length of train_y: {len(train_y)}\")\n",
    "\n",
    "# Ensure both have the same number of samples\n",
    "if len(train_x) != len(train_y):\n",
    "    # Find the common indices\n",
    "    common_indices = train_x.index.intersection(train_y.index)\n",
    "    \n",
    "    # Filter train_x and train_y to have only the common indices\n",
    "    train_x = train_x.loc[common_indices]\n",
    "    train_y = train_y.loc[common_indices]\n",
    "\n",
    "# Verify the lengths again\n",
    "print(f\"Length of train_x after fixing: {len(train_x)}\")\n",
    "print(f\"Length of train_y after fixing: {len(train_y)}\")"
   ]
  },
  {
   "cell_type": "code",
   "execution_count": null,
   "id": "7e156785",
   "metadata": {},
   "outputs": [],
   "source": [
    "import joblib\n",
    "\n",
    "classifier = joblib.load(\"digit_recognizer.pkl\")  # Ensure you have the correct file path\n",
    "prediction = classifier.predict(test_x)\n"
   ]
  },
  {
   "cell_type": "code",
   "execution_count": 71,
   "id": "b1d900aa",
   "metadata": {},
   "outputs": [
    {
     "name": "stdout",
     "output_type": "stream",
     "text": [
      "['1' '2' '2' '1' '1' '2' '5' '6' '5' '5' '5' '5' '0' '0' '5' '0' '6' '5'\n",
      " '2' '1' '2']\n"
     ]
    }
   ],
   "source": [
    "import joblib\n",
    "import os\n",
    "\n",
    "model_path = \"model/digit_recognizer\"\n",
    "\n",
    "if os.path.exists(model_path):\n",
    "    classifier = joblib.load(model_path)\n",
    "    prediction = classifier.predict(test_x)\n",
    "    print(prediction)\n",
    "else:\n",
    "    print(f\"Error: The file '{model_path}' was not found. Please check the file path.\")"
   ]
  },
  {
   "cell_type": "markdown",
   "id": "5e04f98e",
   "metadata": {},
   "source": [
    "# 3. Fit the model using SVC and calculate accuracy"
   ]
  },
  {
   "cell_type": "markdown",
   "id": "1e48fb07",
   "metadata": {},
   "source": [
    "### prediction of image drawn in paint"
   ]
  },
  {
   "cell_type": "code",
   "execution_count": null,
   "id": "d416f722",
   "metadata": {},
   "outputs": [
    {
     "name": "stdout",
     "output_type": "stream",
     "text": [
      "Prediction: 6\n",
      "Prediction: 6\n",
      "Prediction: 6\n",
      "Prediction: 6\n",
      "Prediction: 6\n",
      "Prediction: 6\n",
      "Prediction: 6\n",
      "Prediction: 6\n",
      "Prediction: 6\n",
      "Prediction: 6\n",
      "Prediction: 5\n",
      "Prediction: 5\n",
      "Prediction: 5\n",
      "Prediction: 5\n",
      "Prediction: 5\n",
      "Prediction: 5\n",
      "Prediction: 5\n",
      "Prediction: 5\n",
      "Prediction: 5\n",
      "Prediction: 2\n",
      "Prediction: 2\n",
      "Prediction: 2\n",
      "Prediction: 2\n",
      "Prediction: 2\n",
      "Prediction: 2\n",
      "Prediction: 2\n",
      "Prediction: 2\n",
      "Prediction: 2\n",
      "Prediction: 2\n",
      "Prediction: 2\n",
      "Prediction: 5\n",
      "Prediction: 5\n",
      "Prediction: 5\n",
      "Prediction: 5\n",
      "Prediction: 5\n",
      "Prediction: 2\n",
      "Prediction: 2\n",
      "Prediction: 2\n",
      "Prediction: 2\n",
      "Prediction: 2\n",
      "Prediction: 2\n",
      "Prediction: 2\n",
      "Prediction: 2\n",
      "Prediction: 5\n",
      "Prediction: 5\n",
      "Prediction: 5\n",
      "Prediction: 5\n",
      "Prediction: 5\n",
      "Prediction: 5\n",
      "Prediction: 5\n",
      "Prediction: 5\n",
      "Prediction: 5\n",
      "Prediction: 6\n",
      "Prediction: 6\n",
      "Prediction: 6\n",
      "Prediction: 6\n",
      "Prediction: 6\n",
      "Prediction: 6\n",
      "Prediction: 6\n",
      "Prediction: 6\n",
      "Prediction: 6\n",
      "Prediction: 6\n",
      "Prediction: 6\n",
      "Prediction: 6\n",
      "Prediction: 6\n",
      "Prediction: 6\n",
      "Prediction: 6\n",
      "Prediction: 6\n",
      "Prediction: 6\n",
      "Prediction: 6\n",
      "Prediction: 6\n",
      "Prediction: 6\n",
      "Prediction: 6\n",
      "Prediction: 6\n",
      "Prediction: 6\n",
      "Prediction: 6\n",
      "Prediction: 6\n",
      "Prediction: 6\n",
      "Prediction: 6\n",
      "Prediction: 6\n",
      "Prediction: 6\n",
      "Prediction: 6\n",
      "Prediction: 6\n",
      "Prediction: 6\n",
      "Prediction: 6\n",
      "Prediction: 6\n",
      "Prediction: 6\n",
      "Prediction: 6\n",
      "Prediction: 6\n",
      "Prediction: 6\n",
      "Prediction: 6\n",
      "Prediction: 5\n",
      "Prediction: 5\n",
      "Prediction: 6\n",
      "Prediction: 6\n",
      "Prediction: 5\n",
      "Prediction: 6\n",
      "Prediction: 6\n",
      "Prediction: 6\n",
      "Prediction: 6\n",
      "Prediction: 6\n",
      "Prediction: 6\n",
      "Prediction: 6\n",
      "Prediction: 6\n",
      "Prediction: 6\n",
      "Prediction: 6\n",
      "Prediction: 6\n",
      "Prediction: 6\n",
      "Prediction: 6\n",
      "Prediction: 6\n",
      "Prediction: 6\n",
      "Prediction: 6\n",
      "Prediction: 6\n",
      "Prediction: 6\n",
      "Prediction: 6\n",
      "Prediction: 6\n",
      "Prediction: 6\n",
      "Prediction: 6\n",
      "Prediction: 6\n",
      "Prediction: 6\n",
      "Prediction: 5\n",
      "Prediction: 5\n",
      "Prediction: 5\n",
      "Prediction: 5\n",
      "Prediction: 5\n",
      "Prediction: 5\n",
      "Prediction: 5\n",
      "Prediction: 5\n",
      "Prediction: 6\n",
      "Prediction: 5\n",
      "Prediction: 5\n",
      "Prediction: 6\n",
      "Prediction: 5\n",
      "Prediction: 5\n",
      "Prediction: 5\n",
      "Prediction: 6\n",
      "Prediction: 6\n",
      "Prediction: 6\n",
      "Prediction: 5\n",
      "Prediction: 5\n"
     ]
    }
   ],
   "source": [
    "import joblib\n",
    "import cv2\n",
    "import numpy as np\n",
    "import time\n",
    "import pyscreenshot as ImageGrab\n",
    "\n",
    "model = joblib.load(\"model/digit_recognizer\")\n",
    "images_folder = \"img/\"\n",
    "\n",
    "while True:\n",
    "    img = ImageGrab.grab(bbox=(60,170,400,500))\n",
    "    img.save(images_folder + \"img.png\")\n",
    "    im = cv2.imread(images_folder + \"img.png\")\n",
    "    im_gray = cv2.cvtColor(im, cv2.COLOR_BGR2GRAY)\n",
    "    im_gray = cv2.GaussianBlur(im_gray, (15, 15), 0)\n",
    "    \n",
    "    # Threshold the image\n",
    "    ret, im_th = cv2.threshold(im_gray, 100, 255, cv2.THRESH_BINARY)\n",
    "    roi = cv2.resize(im_th, (28, 28), interpolation=cv2.INTER_AREA)\n",
    "    rows, cols = roi.shape\n",
    "    X = []\n",
    "    for i in range(rows):\n",
    "        for j in range(cols):\n",
    "            k = roi[i, j]\n",
    "            if k > 100:\n",
    "                k = 1\n",
    "            else:\n",
    "                k = 0\n",
    "            X.append(k)\n",
    "    \n",
    "    predictions = model.predict([X])\n",
    "    print(\"Prediction:\", predictions[0])\n",
    "    cv2.putText(im, \"Prediction is:\" + str(predictions[0]), (20, 20), 0, 0.8, (0, 255, 0), 2, cv2.LINE_AA)\n",
    "    cv2.startWindowThread()\n",
    "    cv2.namedWindow(\"Result\")\n",
    "    cv2.imshow(\"Result\", im)\n",
    "    cv2.waitKey(10000)\n",
    "    if cv2.waitKey(1) == 13:  # 27 is ASCII for ESC and 13 is ASCII code for Enter\n",
    "        break\n",
    "\n",
    "cv2.destroyAllWindows()"
   ]
  }
 ],
 "metadata": {
  "kernelspec": {
   "display_name": "Python 3 (ipykernel)",
   "language": "python",
   "name": "python3"
  },
  "language_info": {
   "codemirror_mode": {
    "name": "ipython",
    "version": 3
   },
   "file_extension": ".py",
   "mimetype": "text/x-python",
   "name": "python",
   "nbconvert_exporter": "python",
   "pygments_lexer": "ipython3",
   "version": "3.9.7"
  }
 },
 "nbformat": 4,
 "nbformat_minor": 5
}
