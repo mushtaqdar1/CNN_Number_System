{
 "cells": [
  {
   "cell_type": "markdown",
   "id": "19e3eada",
   "metadata": {},
   "source": [
    "# Hand_Written_Recognition"
   ]
  },
  {
   "cell_type": "markdown",
   "id": "f0d83308",
   "metadata": {},
   "source": [
    "### 1. Screen capture\n",
    "### 2. Generate dataset and load it\n",
    "### 3. Fit the model and load it\n",
    "### 4. Prediction of image drawn in paint"
   ]
  },
  {
   "cell_type": "code",
   "execution_count": null,
   "id": "662e636c",
   "metadata": {},
   "outputs": [],
   "source": [
    "pip install pyscreenshot"
   ]
  },
  {
   "cell_type": "code",
   "execution_count": null,
   "id": "06659455",
   "metadata": {},
   "outputs": [],
   "source": [
    "import pyscreenshot as ImageGrab"
   ]
  },
  {
   "cell_type": "code",
   "execution_count": null,
   "id": "09660e18",
   "metadata": {},
   "outputs": [],
   "source": [
    "import time"
   ]
  },
  {
   "cell_type": "code",
   "execution_count": null,
   "id": "f7c1803e",
   "metadata": {},
   "outputs": [],
   "source": [
    "images_folder=\"D:\\ML\\Captured_images/4/\"\n",
    "for i in range(0,5):\n",
    "    time.sleep(8)\n",
    "    im=ImageGrab.grab(bbox=(60,170,400,550)) #x1,y1,x2,y2\n",
    "    print(\"saved ......\",i)\n",
    "    im.save(images_folder+str(i)+'.png')\n",
    "    print(\"clear screen and redraw now\")\n",
    "    "
   ]
  },
  {
   "cell_type": "markdown",
   "id": "ee4291da",
   "metadata": {},
   "source": [
    "## 2. Generate dataset and load"
   ]
  },
  {
   "cell_type": "code",
   "execution_count": null,
   "id": "ca282aa5",
   "metadata": {},
   "outputs": [],
   "source": [
    "pip install scikit-learn"
   ]
  },
  {
   "cell_type": "code",
   "execution_count": null,
   "id": "6f7e7bb3",
   "metadata": {},
   "outputs": [],
   "source": [
    "import csv\n",
    "import glob\n",
    "import cv2\n",
    "header=[\"label\"]\n",
    "for i in range(0,784):\n",
    "    header.append(\"pixel\"+str(i))\n",
    "with open('dataset.csv','a') as f:\n",
    "    writer=csv.writer(f)\n",
    "    writer.writerow(header)\n",
    "for label in range(10):\n",
    "    dirlist = glob.glob(\"captured_images/\" + str(label) + \"/*.png\")\n",
    "    for img_path in dirlist:\n",
    "        im = cv2.imread(img_path)\n",
    "        im_gray = cv2.cvtColor(im, cv2.COLOR_BGR2GRAY)\n",
    "        im_gray = cv2.GaussianBlur(im_gray, (15, 15), 0)\n",
    "        roi = cv2.resize(im_gray, (28, 28), interpolation=cv2.INTER_AREA)\n",
    "        data =[]\n",
    "        data.append(label)\n",
    "        rows, cols = roi.shape\n",
    "        ## add pixel one by one into the data array\n",
    "        for i in range(rows):\n",
    "            for j in range(cols):\n",
    "                k=roi[i,j]\n",
    "                if k>100:\n",
    "                    k=1\n",
    "                else:\n",
    "                    k=0\n",
    "                data.append(k)\n",
    "        with open('dataset.csv', 'a') as f:\n",
    "            writer = csv.writer(f)\n",
    "            writer.writerow(data)\n",
    "                \n",
    "            \n",
    "        \n",
    "        "
   ]
  },
  {
   "cell_type": "code",
   "execution_count": null,
   "id": "d7dd87d6",
   "metadata": {},
   "outputs": [],
   "source": [
    "import pandas as pd\n",
    "\n",
    "# Load your data into the DataFrame\n",
    "df = pd.read_csv('dataset.csv')\n",
    "\n",
    "# Display the first few rows of the DataFrame\n",
    "print(df.head())\n"
   ]
  },
  {
   "cell_type": "markdown",
   "id": "a7156b43",
   "metadata": {},
   "source": [
    "#### Load the dataset\n",
    "    "
   ]
  },
  {
   "cell_type": "code",
   "execution_count": null,
   "id": "2fad3268",
   "metadata": {},
   "outputs": [],
   "source": [
    "import pandas as pd\n",
    "from sklearn.utils import shuffle\n",
    "import pandas as pd\n",
    "data = pd.read_csv('D:/ML/dataset.csv')\n",
    "data = shuffle(data)\n",
    "print(data)\n",
    "print(data.head())  # Display the first few rows of the DataFrame\n",
    "\n",
    "\n",
    "\n"
   ]
  },
  {
   "cell_type": "code",
   "execution_count": null,
   "id": "88afdd9a",
   "metadata": {},
   "outputs": [],
   "source": [
    "!jt -t solarizedl -tfs 14 -nfs 14"
   ]
  },
  {
   "cell_type": "code",
   "execution_count": null,
   "id": "a0a4f805",
   "metadata": {},
   "outputs": [],
   "source": [
    "pip install jupyterthemes\n"
   ]
  },
  {
   "cell_type": "code",
   "execution_count": null,
   "id": "a25b7a44",
   "metadata": {},
   "outputs": [],
   "source": [
    "pip install matplotlib\n"
   ]
  },
  {
   "cell_type": "code",
   "execution_count": null,
   "id": "849562b7",
   "metadata": {},
   "outputs": [],
   "source": [
    "pip install joblib"
   ]
  },
  {
   "cell_type": "markdown",
   "id": "eec31e04",
   "metadata": {},
   "source": [
    "#### Sepreration of dependent and independent variable"
   ]
  },
  {
   "cell_type": "code",
   "execution_count": null,
   "id": "00f8e362",
   "metadata": {},
   "outputs": [],
   "source": [
    "import pandas as pd\n",
    "# Load the CSV file into a DataFrame\n",
    "data = pd.read_csv('dataset.csv')\n",
    "# Verify the type of 'data' to ensure it's a DataFrame\n",
    "print(type(data))  # Should print <class 'pandas.core.frame.DataFrame'>\n",
    "# Assuming 'data' is now a DataFrame, you can drop the 'label' column\n",
    "X = data.drop(['label'], axis=1)\n",
    "Y = data['label']\n",
    "# Display the first few rows of X and Y to verify\n",
    "print(X.head())\n",
    "print(Y.head())"
   ]
  },
  {
   "cell_type": "markdown",
   "id": "45b4051b",
   "metadata": {},
   "source": [
    "#### Preview of one image using matplotlib"
   ]
  },
  {
   "cell_type": "code",
   "execution_count": null,
   "id": "b4e0fcc6",
   "metadata": {},
   "outputs": [],
   "source": [
    "print(X.index)"
   ]
  },
  {
   "cell_type": "code",
   "execution_count": null,
   "id": "e0145849",
   "metadata": {},
   "outputs": [],
   "source": [
    "import pandas as pd\n",
    "\n",
    "# Load the CSV file into a DataFrame\n",
    "data = pd.read_csv('dataset.csv')\n",
    "\n",
    "# Define the features and labels\n",
    "X = data.drop(['label'], axis=1)\n",
    "Y = data['label']\n"
   ]
  },
  {
   "cell_type": "code",
   "execution_count": null,
   "id": "9f78a961",
   "metadata": {},
   "outputs": [],
   "source": [
    "print(X.head())\n",
    "print(Y.head())"
   ]
  },
  {
   "cell_type": "code",
   "execution_count": null,
   "id": "96355ef1",
   "metadata": {
    "scrolled": false
   },
   "outputs": [],
   "source": [
    "%matplotlib inline\n",
    "import matplotlib.pyplot as plt\n",
    "\n",
    "# Define a valid index\n",
    "idx = 3\n",
    "\n",
    "# Ensure you have a valid index\n",
    "if idx in X.index:\n",
    "    img = X.loc[idx].values.reshape(28, 28)\n",
    "    print(Y[idx])\n",
    "    plt.imshow(img, cmap='gray')\n",
    "    plt.show()\n",
    "else:\n",
    "    print(f\"Index {idx} not found in the DataFrame.\")\n"
   ]
  },
  {
   "cell_type": "markdown",
   "id": "f5c7ef77",
   "metadata": {},
   "source": [
    "#### Train-test split"
   ]
  },
  {
   "cell_type": "code",
   "execution_count": null,
   "id": "c280c8a1",
   "metadata": {},
   "outputs": [],
   "source": [
    "pip install scikit-learn"
   ]
  },
  {
   "cell_type": "code",
   "execution_count": null,
   "id": "4707d6b1",
   "metadata": {},
   "outputs": [],
   "source": [
    "from sklearn.model_selection import train_test_split\n",
    "train_x,test_x,train_y,test_y= train_test_split(X,Y, test_size=0.2)"
   ]
  },
  {
   "cell_type": "markdown",
   "id": "cef0d76b",
   "metadata": {},
   "source": [
    "# 3. Fit the model SVC and also to save the model using joblib"
   ]
  },
  {
   "cell_type": "code",
   "execution_count": null,
   "id": "a5c1babb",
   "metadata": {},
   "outputs": [],
   "source": [
    "!pip check\n",
    "!pip uninstall imbalanced-learn\n",
    "!pip install imbalanced-learn"
   ]
  },
  {
   "cell_type": "code",
   "execution_count": null,
   "id": "3ea70ead",
   "metadata": {},
   "outputs": [],
   "source": [
    "conda install -c conda-forge imbalanced-learn"
   ]
  },
  {
   "cell_type": "code",
   "execution_count": null,
   "id": "e3edf4c5",
   "metadata": {},
   "outputs": [],
   "source": [
    "pip install --upgrade pip"
   ]
  },
  {
   "cell_type": "code",
   "execution_count": null,
   "id": "21a9ae96",
   "metadata": {},
   "outputs": [],
   "source": [
    "import pandas as pd\n",
    "from sklearn.model_selection import train_test_split\n",
    "from sklearn.svm import SVC\n",
    "import joblib\n",
    "from imblearn.over_sampling import SMOTE\n",
    "\n",
    "# Load the CSV file into a DataFrame\n",
    "data = pd.read_csv('dataset.csv')\n",
    "\n",
    "# Verify the DataFrame structure\n",
    "print(data.head())\n",
    "\n",
    "# Check unique values and class distribution in 'label' column\n",
    "unique_labels = data['label'].unique()\n",
    "class_counts = data['label'].value_counts()\n",
    "print(f\"Unique classes in 'label' column: {unique_labels}\")\n",
    "print(f\"Class distribution in the original data:\\n{class_counts}\")\n",
    "\n",
    "# Define features and labels\n",
    "X = data.drop(['label'], axis=1)\n",
    "Y = data['label']\n",
    "\n",
    "# Apply SMOTE to balance the dataset\n",
    "smote = SMOTE(random_state=42)\n",
    "X_resampled, Y_resampled = smote.fit_resample(X, Y)\n",
    "\n",
    "# Check class distribution in the resampled data\n",
    "resampled_class_counts = pd.Series(Y_resampled).value_counts()\n",
    "print(f\"Class distribution in the resampled data:\\n{resampled_class_counts}\")\n",
    "\n",
    "# Split the resampled data into training and testing sets\n",
    "train_x, test_x, train_y, test_y = train_test_split(X_resampled, Y_resampled, test_size=0.2, random_state=42, stratify=Y_resampled)\n",
    "\n",
    "# Check class distribution in train_y\n",
    "train_class_counts = train_y.value_counts()\n",
    "print(f\"Class distribution in the training data:\\n{train_class_counts}\")\n",
    "\n",
    "# Initialize the classifier\n",
    "classifier = SVC(kernel=\"linear\", random_state=6)\n",
    "\n",
    "# Fit the classifier with training data\n",
    "classifier.fit(train_x, train_y)\n",
    "\n",
    "# Save the model\n",
    "joblib.dump(classifier, \"model/digit_recognizer\")\n"
   ]
  },
  {
   "cell_type": "markdown",
   "id": "fe9e60c2",
   "metadata": {},
   "source": [
    "#### Calculate the accuracy"
   ]
  },
  {
   "cell_type": "code",
   "execution_count": null,
   "id": "a1db8430",
   "metadata": {},
   "outputs": [],
   "source": [
    "python -m pip install imbalanced-learn\n"
   ]
  },
  {
   "cell_type": "code",
   "execution_count": null,
   "id": "0c929134",
   "metadata": {},
   "outputs": [],
   "source": [
    "import pandas as pd\n",
    "from sklearn.model_selection import train_test_split\n",
    "from sklearn.svm import SVC\n",
    "import joblib\n",
    "from imblearn.over_sampling import SMOTE\n",
    "import os\n",
    "\n",
    "# Load the CSV file into a DataFrame\n",
    "try:\n",
    "    data = pd.read_csv('dataset.csv')\n",
    "    if data.empty:\n",
    "        print(\"The dataset is empty. Check the file path or contents.\")\n",
    "    else:\n",
    "        print(data.head())\n",
    "except FileNotFoundError:\n",
    "    print(\"The file 'dataset.csv' was not found. Please check the file path.\")\n",
    "except pd.errors.EmptyDataError:\n",
    "    print(\"The file is empty. Please check the file contents.\")\n",
    "except Exception as e:\n",
    "    print(f\"An error occurred: {e}\")\n",
    "\n",
    "# Proceed if data is correctly loaded\n",
    "if 'data' in locals() and not data.empty:\n",
    "    # Check unique values and class distribution in 'label' column\n",
    "    unique_labels = data['label'].unique()\n",
    "    class_counts = data['label'].value_counts()\n",
    "    print(f\"Unique classes in 'label' column: {unique_labels}\")\n",
    "    print(f\"Class distribution in the original data:\\n{class_counts}\")\n",
    "\n",
    "    # Define features and labels\n",
    "    X = data.drop(['label'], axis=1)\n",
    "    Y = data['label']\n",
    "\n",
    "    # Apply SMOTE to balance the dataset\n",
    "    smote = SMOTE(random_state=42)\n",
    "    X_resampled, Y_resampled = smote.fit_resample(X, Y)\n",
    "\n",
    "    # Check class distribution in the resampled data\n",
    "    resampled_class_counts = pd.Series(Y_resampled).value_counts()\n",
    "    print(f\"Class distribution in the resampled data:\\n{resampled_class_counts}\")\n",
    "\n",
    "    # Split the resampled data into training and testing sets\n",
    "    train_x, test_x, train_y, test_y = train_test_split(X_resampled, Y_resampled, test_size=0.2, random_state=42, stratify=Y_resampled)\n",
    "\n",
    "    # Check class distribution in train_y\n",
    "    train_class_counts = train_y.value_counts()\n",
    "    print(f\"Class distribution in the training data:\\n{train_class_counts}\")\n",
    "\n",
    "    # Initialize the classifier\n",
    "    classifier = SVC(kernel=\"linear\", random_state=6)\n",
    "\n",
    "    # Fit the classifier with training data\n",
    "    classifier.fit(train_x, train_y)\n",
    "\n",
    "    # Save the model with versioning\n",
    "    model_dir = \"model\"\n",
    "    if not os.path.exists(model_dir):\n",
    "        os.makedirs(model_dir)\n",
    "    model_path = os.path.join(model_dir, \"digit_recognizer_v1.pkl\")\n",
    "    joblib.dump(classifier, model_path)\n"
   ]
  },
  {
   "cell_type": "code",
   "execution_count": null,
   "id": "a1dbf508",
   "metadata": {},
   "outputs": [],
   "source": [
    "!pip install imbalanced-learn"
   ]
  },
  {
   "cell_type": "code",
   "execution_count": 5,
   "id": "5814d126",
   "metadata": {},
   "outputs": [
    {
     "ename": "ModuleNotFoundError",
     "evalue": "No module named 'imblearn'",
     "output_type": "error",
     "traceback": [
      "\u001b[1;31m---------------------------------------------------------------------------\u001b[0m",
      "\u001b[1;31mModuleNotFoundError\u001b[0m                       Traceback (most recent call last)",
      "\u001b[1;32mC:\\Users\\ERMUSH~1\\AppData\\Local\\Temp/ipykernel_26456/120219815.py\u001b[0m in \u001b[0;36m<module>\u001b[1;34m\u001b[0m\n\u001b[1;32m----> 1\u001b[1;33m \u001b[1;32mimport\u001b[0m \u001b[0mimblearn\u001b[0m\u001b[1;33m\u001b[0m\u001b[1;33m\u001b[0m\u001b[0m\n\u001b[0m\u001b[0;32m      2\u001b[0m \u001b[0mprint\u001b[0m\u001b[1;33m(\u001b[0m\u001b[0mimblearn\u001b[0m\u001b[1;33m.\u001b[0m\u001b[0m__version__\u001b[0m\u001b[1;33m)\u001b[0m\u001b[1;33m\u001b[0m\u001b[1;33m\u001b[0m\u001b[0m\n",
      "\u001b[1;31mModuleNotFoundError\u001b[0m: No module named 'imblearn'"
     ]
    }
   ],
   "source": [
    "import imblearn\n",
    "print(imblearn.__version__)\n"
   ]
  },
  {
   "cell_type": "code",
   "execution_count": null,
   "id": "718e44c1",
   "metadata": {},
   "outputs": [],
   "source": [
    "from imblearn.over_sampling import SMOTE"
   ]
  },
  {
   "cell_type": "code",
   "execution_count": null,
   "id": "ed18fd05",
   "metadata": {},
   "outputs": [],
   "source": [
    "!pip install imbalanced-learn"
   ]
  },
  {
   "cell_type": "code",
   "execution_count": null,
   "id": "164e0739",
   "metadata": {},
   "outputs": [],
   "source": [
    "!pip install imbalanced-learn"
   ]
  },
  {
   "cell_type": "code",
   "execution_count": null,
   "id": "1b79a5d9",
   "metadata": {},
   "outputs": [],
   "source": [
    "from sklearn import metrics\n",
    "prediction=classifier.predict(test_x)\n",
    "print(\"Accuracy=\",metrics.accuracy_score(prediction,test_y))\n"
   ]
  },
  {
   "cell_type": "code",
   "execution_count": null,
   "id": "030fec1d",
   "metadata": {},
   "outputs": [],
   "source": [
    "from sklearn.svm import SVC\n",
    "\n",
    "classifier = SVC()  # or any other model initialization\n",
    "classifier.fit(train_x, train_y)  # Make sure the model is trained\n",
    "\n",
    "prediction = classifier.predict(test_x)\n"
   ]
  },
  {
   "cell_type": "code",
   "execution_count": null,
   "id": "642fa436",
   "metadata": {},
   "outputs": [],
   "source": [
    "import joblib\n",
    "\n",
    "classifier = joblib.load(\"classifier_model.pkl\")  # Ensure you have the correct file path\n",
    "prediction = classifier.predict(test_x)\n"
   ]
  },
  {
   "cell_type": "markdown",
   "id": "e1cb399a",
   "metadata": {},
   "source": [
    "# 3. Fit the model using SVC and calculate accuracy"
   ]
  },
  {
   "cell_type": "code",
   "execution_count": null,
   "id": "6747cc90",
   "metadata": {},
   "outputs": [],
   "source": []
  },
  {
   "cell_type": "markdown",
   "id": "dab3fcb9",
   "metadata": {},
   "source": [
    "### prediction of image drawn in paint"
   ]
  },
  {
   "cell_type": "code",
   "execution_count": null,
   "id": "450a98d7",
   "metadata": {},
   "outputs": [],
   "source": [
    "import joblib\n",
    "import cv2\n",
    "import numpy as np\n",
    "import time\n",
    "import pyscreenshot as ImageGrab\n",
    "model=joblib.load(\"model/digit_recognizer\")\n",
    "images_folder=\"img/\"\n",
    "while true:\n",
    "    img=ImageGrab.grab(bbox=(60,170,400,500))\n",
    "    im.save(images_folder+\"img.png\")\n",
    "    im= cv2.imread(images_folder+\"img.png\")\n",
    "    im_gray=cv2.cvtColor(cv2.COLOR_BGR2GRAY)\n",
    "    im_gray=cv2.GaussianBlue(im_gray,(15,15),0)\n",
    "    # Threshold the image\n",
    "    ret, im_th= cv2.threshold(im_gray,100,255,cv2.THRESH_BINARY)\n",
    "    roi=cv2.resize(im_th,(28,28), interpolation =cv2. INTER_AREA)\n",
    "    rows,cols=roi.shape\n",
    "    X=[]\n",
    "    for i in range(rows):\n",
    "        for j in range(cols):\n",
    "            k = roi[i, j]\n",
    "        if k > 100:\n",
    "            k = 1\n",
    "        else:\n",
    "            k = 0\n",
    "        X.append(k)\n",
    "predictions =model.predict([X])\n",
    "print(\"Prediction:\",prediction[0])\n",
    "cv2.putText(im,\"Prediction is:\"+str(predictions[0]),(20,20),0,0.8,(0,255,0),2,cv2.LINE_AA)\n",
    "cv2.startWindowThread()\n",
    "cv2.nameWindow(\"Result\")\n",
    "cv2.imgshow(\"Result\",im)\n",
    "cv2.waitkey(10000)\n",
    "if cv2.waitkey(1)==13: #27 is ascii for esc and 13 is ascii code for enter\n",
    "    break\n",
    "cv2.destroyAllWindows()\n",
    "                      \n",
    "    "
   ]
  },
  {
   "cell_type": "code",
   "execution_count": null,
   "id": "c8725417",
   "metadata": {},
   "outputs": [],
   "source": [
    "import joblib\n",
    "import cv2\n",
    "import numpy as np\n",
    "import time\n",
    "import pyscreenshot as ImageGrab\n",
    "\n",
    "# Load the model\n",
    "model = joblib.load(\"model/digit_recognizer\")\n",
    "\n",
    "images_folder = \"img/\"\n",
    "while True:\n",
    "    # Capture the screen\n",
    "    img = ImageGrab.grab(bbox=(60, 170, 400, 500))\n",
    "    img.save(images_folder + \"img.png\")\n",
    "    im = cv2.imread(images_folder + \"img.png\")\n",
    "    \n",
    "    # Convert to grayscale\n",
    "    im_gray = cv2.cvtColor(im, cv2.COLOR_BGR2GRAY)\n",
    "    im_gray = cv2.GaussianBlur(im_gray, (15, 15), 0)\n",
    "    \n",
    "    # Threshold the image\n",
    "    ret, im_th = cv2.threshold(im_gray, 100, 255, cv2.THRESH_BINARY)\n",
    "    roi = cv2.resize(im_th, (28, 28), interpolation=cv2.INTER_AREA)\n",
    "    \n",
    "    rows, cols = roi.shape\n",
    "    X = []\n",
    "    for i in range(rows):\n",
    "        for j in range(cols):\n",
    "            k = roi[i, j]\n",
    "            if k > 100:\n",
    "                k = 1\n",
    "            else:\n",
    "                k = 0\n",
    "            X.append(k)\n",
    "    \n",
    "    # Make predictions\n",
    "    predictions = model.predict([X])\n",
    "    print(\"Prediction:\", predictions[0])\n",
    "    \n",
    "    # Display the prediction\n",
    "    cv2.putText(im, \"Prediction is: \" + str(predictions[0]), (20, 20), 0, 0.8, (0, 255, 0), 2, cv2.LINE_AA)\n",
    "    cv2.startWindowThread()\n",
    "    cv2.namedWindow(\"Result\")\n",
    "    cv2.imshow(\"Result\", im)\n",
    "    cv2.waitKey(10000)\n",
    "    \n",
    "    if cv2.waitKey(1) == 13:  # 27 is ASCII for ESC and 13 is ASCII code for Enter\n",
    "        break\n",
    "\n",
    "cv2.destroyAllWindows()\n"
   ]
  },
  {
   "cell_type": "code",
   "execution_count": null,
   "id": "436fd9f3",
   "metadata": {},
   "outputs": [],
   "source": []
  }
 ],
 "metadata": {
  "kernelspec": {
   "display_name": "Python 3 (ipykernel)",
   "language": "python",
   "name": "python3"
  },
  "language_info": {
   "codemirror_mode": {
    "name": "ipython",
    "version": 3
   },
   "file_extension": ".py",
   "mimetype": "text/x-python",
   "name": "python",
   "nbconvert_exporter": "python",
   "pygments_lexer": "ipython3",
   "version": "3.9.7"
  }
 },
 "nbformat": 4,
 "nbformat_minor": 5
}
